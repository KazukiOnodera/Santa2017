{
 "cells": [
  {
   "cell_type": "code",
   "execution_count": 1,
   "metadata": {
    "collapsed": false
   },
   "outputs": [
    {
     "name": "stdout",
     "output_type": "stream",
     "text": [
      "child_wishlist.csv\n",
      "child_wishlist_v2.csv\n",
      "gift_goodkids.csv\n",
      "gift_goodkids_v2.csv\n",
      "sample_submission_random.csv\n",
      "sample_submission_random_v2.csv\n",
      "santa-gift-matching-publicleaderboard.csv\n",
      "\n",
      "normalized child happiness= 0.04621203 , normalized gift happiness -4.59355e-05\n",
      "9.868817990273061e-05\n"
     ]
    }
   ],
   "source": [
    "# This Python 3 environment comes with many helpful analytics libraries installed\n",
    "# It is defined by the kaggle/python docker image: https://github.com/kaggle/docker-python\n",
    "# For example, here's several helpful packages to load in \n",
    "\n",
    "import numpy as np # linear algebra\n",
    "import pandas as pd # data processing, CSV file I/O (e.g. pd.read_csv)\n",
    "import math\n",
    "from collections import Counter\n",
    "\n",
    "# Input data files are available in the \"../input/\" directory.\n",
    "# For example, running this (by clicking run or pressing Shift+Enter) will list the files in the input directory\n",
    "\n",
    "from subprocess import check_output\n",
    "print(check_output([\"ls\", \"../input\"]).decode(\"utf8\"))\n",
    "\n",
    "n_children = 1000000 # n children to give\n",
    "n_gift_type = 1000 # n types of gifts available\n",
    "n_gift_quantity = 1000 # each type of gifts are limited to this quantity\n",
    "n_gift_pref = 100 # number of gifts a child ranks\n",
    "n_child_pref = 1000 # number of children a gift ranks\n",
    "twins = math.ceil(0.04 * n_children / 2.) * 2    # 4% of all population, rounded to the closest number\n",
    "triplets = math.ceil(0.005 * n_children / 3.) * 3    # 0.5% of all population, rounded to the closest number\n",
    "ratio_gift_happiness = 2\n",
    "ratio_child_happiness = 2\n",
    "\n",
    "\n",
    "\n",
    "gift_pref = pd.read_csv('../input/child_wishlist_v2.csv',header=None).drop(0, 1).values\n",
    "child_pref = pd.read_csv('../input/gift_goodkids_v2.csv',header=None).drop(0, 1).values\n",
    "\n",
    "\n",
    "def lcm(a, b):\n",
    "    \"\"\"Compute the lowest common multiple of a and b\"\"\"\n",
    "    # in case of large numbers, using floor division\n",
    "    return a * b // math.gcd(a, b)\n",
    "\n",
    "def avg_normalized_happiness(pred, child_pref, gift_pref):\n",
    "    \n",
    "    # check if number of each gift exceeds n_gift_quantity\n",
    "    gift_counts = Counter(elem[1] for elem in pred)\n",
    "    for count in gift_counts.values():\n",
    "        assert count <= n_gift_quantity\n",
    "                \n",
    "    # check if triplets have the same gift\n",
    "    for t1 in np.arange(0,triplets,3):\n",
    "        triplet1 = pred[t1]\n",
    "        triplet2 = pred[t1+1]\n",
    "        triplet3 = pred[t1+2]\n",
    "        # print(t1, triplet1, triplet2, triplet3)\n",
    "        assert triplet1[1] == triplet1[1] and triplet2[1] == triplet3[1]\n",
    "                \n",
    "    # check if twins have the same gift\n",
    "    for t1 in np.arange(triplets,triplets+twins,2):\n",
    "        twin1 = pred[t1]\n",
    "        twin2 = pred[t1+1]\n",
    "        # print(t1)\n",
    "        assert twin1[1] == twin2[1]\n",
    "\n",
    "    max_child_happiness = n_gift_pref * ratio_child_happiness\n",
    "    max_gift_happiness = n_child_pref * ratio_gift_happiness\n",
    "    total_child_happiness = 0\n",
    "    total_gift_happiness = np.zeros(n_gift_type)\n",
    "    \n",
    "    for row in pred:\n",
    "        child_id = row[0]\n",
    "        gift_id = row[1]\n",
    "        \n",
    "        # check if child_id and gift_id exist\n",
    "        assert child_id < n_children\n",
    "        assert gift_id < n_gift_type\n",
    "        assert child_id >= 0 \n",
    "        assert gift_id >= 0\n",
    "        child_happiness = (n_gift_pref - np.where(gift_pref[child_id]==gift_id)[0]) * ratio_child_happiness\n",
    "        if not child_happiness:\n",
    "            child_happiness = -1\n",
    "\n",
    "        gift_happiness = ( n_child_pref - np.where(child_pref[gift_id]==child_id)[0]) * ratio_gift_happiness\n",
    "        if not gift_happiness:\n",
    "            gift_happiness = -1\n",
    "\n",
    "        total_child_happiness += child_happiness\n",
    "        total_gift_happiness[gift_id] += gift_happiness\n",
    "    \n",
    "    print('normalized child happiness=',float(total_child_happiness)/(float(n_children)*float(max_child_happiness)) , \\\n",
    "        ', normalized gift happiness',np.mean(total_gift_happiness) / float(max_gift_happiness*n_gift_quantity))\n",
    "\n",
    "    # to avoid float rounding error\n",
    "    # find common denominator\n",
    "    # NOTE: I used this code to experiment different parameters, so it was necessary to get the multiplier\n",
    "    # Note: You should hard-code the multipler to speed up, now that the parameters are finalized\n",
    "    denominator1 = n_children*max_child_happiness\n",
    "    denominator2 = n_gift_quantity*max_gift_happiness*n_gift_type\n",
    "    common_denom = lcm(denominator1, denominator2)\n",
    "    multiplier = common_denom / denominator1\n",
    "\n",
    "    # # usually denom1 > demon2\n",
    "    return float(math.pow(total_child_happiness*multiplier,3) + math.pow(np.sum(total_gift_happiness),3)) / float(math.pow(common_denom,3))\n",
    "    # return math.pow(float(total_child_happiness)/(float(n_children)*float(max_child_happiness)),2) + math.pow(np.mean(total_gift_happiness) / float(max_gift_happiness*n_gift_quantity),2)\n",
    "\n",
    "random_sub = pd.read_csv('../input/sample_submission_random_v2.csv').values.tolist()\n",
    "print(avg_normalized_happiness(random_sub, child_pref, gift_pref))"
   ]
  },
  {
   "cell_type": "code",
   "execution_count": 2,
   "metadata": {
    "collapsed": false
   },
   "outputs": [
    {
     "data": {
      "text/plain": [
       "((1000000, 100), (1000, 1000))"
      ]
     },
     "execution_count": 2,
     "metadata": {},
     "output_type": "execute_result"
    }
   ],
   "source": [
    "gift_pref.shape, child_pref.shape"
   ]
  },
  {
   "cell_type": "code",
   "execution_count": 3,
   "metadata": {
    "collapsed": true
   },
   "outputs": [],
   "source": [
    "class Child(object):\n",
    "    \n",
    "    def __init__(self, idx, prefer):\n",
    "        \n",
    "        self.idx = idx\n",
    "        self.prefer_dict = dict()\n",
    "        \n",
    "        for i in range(prefer.shape[0]):\n",
    "            self.prefer_dict[prefer[i]] = [12*(prefer.shape[0] - i), -6]\n",
    "    \n",
    "    \n",
    "    def add_gifts_prefer(self, giftid, score):\n",
    "        \n",
    "        if giftid in self.prefer_dict.keys():\n",
    "            self.prefer_dict[giftid][1] = 6*score\n",
    "        else:\n",
    "            self.prefer_dict[giftid] = [-6, 6*score]\n",
    "        \n",
    "        return None\n",
    "        \n",
    "    \n",
    "    def happiness(self, giftid):\n",
    "        \n",
    "        return self.prefer_dict.get(giftid, [-6, -6])\n",
    "    \n",
    "class Child_twin(object):\n",
    "    \n",
    "    def __init__(self, idx, prefer1, prefer2):\n",
    "        \n",
    "        self.idx = idx\n",
    "        self.prefer_dict = dict()\n",
    "        \n",
    "        for p in list(set(list(prefer1) + list(prefer2))):\n",
    "            score = 0\n",
    "            if p in list(prefer1):\n",
    "                score += 2*(100 - list(prefer1).index(p))\n",
    "            else:\n",
    "                score -= 1\n",
    "            if p in list(prefer2):\n",
    "                score += 2*(100 - list(prefer2).index(p))\n",
    "            else:\n",
    "                score -= 1\n",
    "            self.prefer_dict[p] = [3*score, -6]\n",
    "    \n",
    "    \n",
    "    def add_gifts_prefer(self, giftid, score):\n",
    "        \n",
    "        if giftid in self.prefer_dict.keys():\n",
    "            self.prefer_dict[giftid][1] = 3*score\n",
    "        else:\n",
    "            self.prefer_dict[giftid] = [-6, 3*score]\n",
    "        \n",
    "        return None\n",
    "        \n",
    "    \n",
    "    def happiness(self, giftid):\n",
    "        \n",
    "        return self.prefer_dict.get(giftid, [-6, -6])\n",
    "    \n",
    "class Child_triplet(object):\n",
    "    \n",
    "    def __init__(self, idx, prefer1, prefer2, prefer3):\n",
    "        \n",
    "        self.idx = idx\n",
    "        self.prefer_dict = dict()\n",
    "        \n",
    "        for p in list(set(list(prefer1) + list(prefer2) + list(prefer3))):\n",
    "            score = 0\n",
    "            if p in list(prefer1):\n",
    "                score += 2*(100 - list(prefer1).index(p))\n",
    "            else:\n",
    "                score -= 1\n",
    "            if p in list(prefer2):\n",
    "                score += 2*(100 - list(prefer2).index(p))\n",
    "            else:\n",
    "                score -= 1\n",
    "            if p in list(prefer3):\n",
    "                score += 2*(100 - list(prefer3).index(p))\n",
    "            else:\n",
    "                score -= 1\n",
    "            self.prefer_dict[p] = [2*score, -6]\n",
    "    \n",
    "    \n",
    "    def add_gifts_prefer(self, giftid, score):\n",
    "        \n",
    "        if giftid in self.prefer_dict.keys():\n",
    "            self.prefer_dict[giftid][1] = 2*score\n",
    "        else:\n",
    "            self.prefer_dict[giftid] = [-6, 2*score]\n",
    "        \n",
    "        return None\n",
    "        \n",
    "    \n",
    "    def happiness(self, giftid):\n",
    "        \n",
    "        return self.prefer_dict.get(giftid, [-6, -6])\n",
    "    \n",
    "    \n",
    "Children = []\n",
    "for i in range(0, 5001, 3):\n",
    "    Children.append(Child_triplet(i, gift_pref[i], gift_pref[i+1], gift_pref[i+2]))\n",
    "    Children.append(Child_triplet(i+1, gift_pref[i], gift_pref[i+1], gift_pref[i+2]))\n",
    "    Children.append(Child_triplet(i+2, gift_pref[i], gift_pref[i+1], gift_pref[i+2]))\n",
    "for i in range(5001, 45001, 2):\n",
    "    Children.append(Child_twin(i, gift_pref[i], gift_pref[i+1]))\n",
    "    Children.append(Child_twin(i+1, gift_pref[i], gift_pref[i+1]))\n",
    "Children = Children + [Child(i, gift_pref[i]) for i in range(45001, 1000000)]\n",
    "\n",
    "for j in range(1000):\n",
    "    cf = child_pref[j]\n",
    "    done_list = []\n",
    "    for i in range(cf.shape[0]):\n",
    "        if cf[i] <= 5000 and cf[i] not in done_list:\n",
    "            if cf[i] % 3 == 0:\n",
    "                cid1 = cf[i]\n",
    "                cid2 = cf[i] + 1\n",
    "                cid3 = cf[i] + 2\n",
    "                done_list.append(cid2)\n",
    "                done_list.append(cid3)\n",
    "            elif cf[i] % 3 == 1:\n",
    "                cid1 = cf[i] - 1\n",
    "                cid2 = cf[i]\n",
    "                cid3 = cf[i] + 1\n",
    "                done_list.append(cid1)\n",
    "                done_list.append(cid3)\n",
    "            else:\n",
    "                cid1 = cf[i] - 2\n",
    "                cid2 = cf[i] - 1\n",
    "                cid3 = cf[i]\n",
    "                done_list.append(cid1)\n",
    "                done_list.append(cid2)\n",
    "            if cid1 in list(cf):\n",
    "                score_ = 2*(cf.shape[0] - list(cf).index(cid1))\n",
    "            else:\n",
    "                score_ = -1\n",
    "            if cid2 in list(cf):\n",
    "                score_ += 2*(cf.shape[0] - list(cf).index(cid2))\n",
    "            else:\n",
    "                score_ += -1\n",
    "            if cid3 in list(cf):\n",
    "                score_ += 2*(cf.shape[0] - list(cf).index(cid3))\n",
    "            else:\n",
    "                score_ += -1\n",
    "            Children[cid1].add_gifts_prefer(j, score_)\n",
    "            Children[cid2].add_gifts_prefer(j, score_)\n",
    "            Children[cid3].add_gifts_prefer(j, score_)\n",
    "        elif cf[i] <= 45000 and cf[i] not in done_list:\n",
    "            if cf[i] % 2 == 1:\n",
    "                cid1 = cf[i]\n",
    "                cid2 = cf[i] + 1\n",
    "                done_list.append(cid2)\n",
    "            else:\n",
    "                cid1 = cf[i] - 1\n",
    "                cid2 = cf[i]\n",
    "                done_list.append(cid1)\n",
    "            if cid1 in list(cf):\n",
    "                score_ = 2*(cf.shape[0] - list(cf).index(cid1))\n",
    "            else:\n",
    "                score_ = -1\n",
    "            if cid2 in list(cf):\n",
    "                score_ += 2*(cf.shape[0] - list(cf).index(cid2))\n",
    "            else:\n",
    "                score_ += -1\n",
    "            Children[cid1].add_gifts_prefer(j, score_)\n",
    "            Children[cid2].add_gifts_prefer(j, score_)\n",
    "        elif cf[i] > 45000:\n",
    "            Children[cf[i]].add_gifts_prefer(j, 2*(cf.shape[0] - i))"
   ]
  },
  {
   "cell_type": "code",
   "execution_count": 4,
   "metadata": {
    "collapsed": true
   },
   "outputs": [],
   "source": [
    "from ortools.graph import pywrapgraph\n",
    "\n",
    "W_CHILD = 9020\n",
    "W_GIFTS = 2"
   ]
  },
  {
   "cell_type": "code",
   "execution_count": 5,
   "metadata": {
    "collapsed": false
   },
   "outputs": [],
   "source": [
    "min_cost_flow_1 = pywrapgraph.SimpleMinCostFlow()\n",
    "\n",
    "start_nodes = []\n",
    "end_nodes = []\n",
    "capacities = []\n",
    "unit_costs = []\n",
    "\n",
    "\n",
    "# triplets\n",
    "for i in range(0, 5001, 3):\n",
    "    for g in Children[i].prefer_dict.keys():\n",
    "        start_nodes.append(1000000+g)\n",
    "        end_nodes.append(i)\n",
    "        capacities.append(3)\n",
    "        unit_costs.append(-W_CHILD*(Children[i].prefer_dict[g][0] + 6)-W_GIFTS*(Children[i].prefer_dict[g][1] + 6))\n",
    "        \n",
    "# triplets\n",
    "for i in range(5001, 45001, 2):\n",
    "    for g in Children[i].prefer_dict.keys():\n",
    "        start_nodes.append(1000000+g)\n",
    "        end_nodes.append(i)\n",
    "        capacities.append(2)\n",
    "        unit_costs.append(-W_CHILD*(Children[i].prefer_dict[g][0] + 6)-W_GIFTS*(Children[i].prefer_dict[g][1] + 6))\n",
    "        \n",
    "# other children\n",
    "for i in range(45001, 1000000):\n",
    "    \n",
    "    for g in Children[i].prefer_dict.keys():\n",
    "        start_nodes.append(1000000+g)\n",
    "        end_nodes.append(i)\n",
    "        capacities.append(1)\n",
    "        unit_costs.append(-W_CHILD*(Children[i].prefer_dict[g][0] + 6)-W_GIFTS*(Children[i].prefer_dict[g][1] + 6))\n",
    "\n",
    "# add Arc\n",
    "# gift -> children\n",
    "for i in range(len(start_nodes)):\n",
    "    min_cost_flow_1.AddArcWithCapacityAndUnitCost(\n",
    "        int(start_nodes[i]), int(end_nodes[i]), int(capacities[i]), int(unit_costs[i])\n",
    "    )\n",
    "    \n",
    "# children -> 1001000 : collection\n",
    "for i in range(0, 5001, 3):\n",
    "    min_cost_flow_1.AddArcWithCapacityAndUnitCost(\n",
    "        int(i), int(1001000), int(3), int(0)\n",
    "    )\n",
    "for i in range(5001, 45001, 2):\n",
    "    min_cost_flow_1.AddArcWithCapacityAndUnitCost(\n",
    "        int(i), int(1001000), int(2), int(0)\n",
    "    )\n",
    "for i in range(45001, 1000000):\n",
    "    min_cost_flow_1.AddArcWithCapacityAndUnitCost(\n",
    "        int(i), int(1001000), int(1), int(0)\n",
    "    )\n",
    "    \n",
    "# gift -> 1001001 : dust_gift\n",
    "for i in range(1000):\n",
    "    min_cost_flow_1.AddArcWithCapacityAndUnitCost(\n",
    "        int(1000000+i), int(1001001), int(1000), int(0)\n",
    "    )\n",
    "    \n",
    "# 1001001 -> 1001000 : dust_path\n",
    "min_cost_flow_1.AddArcWithCapacityAndUnitCost(\n",
    "        int(1001001), int(1001000), int(1000000), int(0)\n",
    "    )\n",
    "\n",
    "\n",
    "# add Supply\n",
    "for i in range(1000):\n",
    "    min_cost_flow_1.SetNodeSupply(int(1000000+i), int(1000))\n",
    "\n",
    "# children\n",
    "for i in range(0, 5001, 3):\n",
    "    min_cost_flow_1.SetNodeSupply(int(i), int(0))\n",
    "for i in range(5001, 45001, 2):\n",
    "    min_cost_flow_1.SetNodeSupply(int(i), int(0))\n",
    "for i in range(45001, 1000000):\n",
    "    min_cost_flow_1.SetNodeSupply(int(i), int(0))\n",
    "\n",
    "min_cost_flow_1.SetNodeSupply(int(1001001), int(0)) \n",
    "min_cost_flow_1.SetNodeSupply(int(1001000), int(-1000000)) \n",
    "\n",
    "\n"
   ]
  },
  {
   "cell_type": "code",
   "execution_count": 6,
   "metadata": {
    "collapsed": false
   },
   "outputs": [
    {
     "data": {
      "text/plain": [
       "1"
      ]
     },
     "execution_count": 6,
     "metadata": {},
     "output_type": "execute_result"
    }
   ],
   "source": [
    "min_cost_flow_1.Solve()"
   ]
  },
  {
   "cell_type": "code",
   "execution_count": 7,
   "metadata": {
    "collapsed": false
   },
   "outputs": [
    {
     "name": "stdout",
     "output_type": "stream",
     "text": [
      "9020 2 11739596220 1709307 1617929073662152820107354405443\n",
      "0.9363015472581903\n"
     ]
    }
   ],
   "source": [
    "assignment = [-1]*1000000\n",
    "twins_differ = []\n",
    "triplets_differ = []\n",
    "\n",
    "for i in range(min_cost_flow_1.NumArcs()):\n",
    "    if min_cost_flow_1.Flow(i) != 0 and min_cost_flow_1.Head(i) < 1000000:\n",
    "        c = min_cost_flow_1.Head(i)\n",
    "        g = min_cost_flow_1.Tail(i)\n",
    "        f = min_cost_flow_1.Flow(i)\n",
    "\n",
    "        if c >= 45001:\n",
    "            assignment[c] = g - 1000000\n",
    "\n",
    "        elif c >= 5001:\n",
    "            if f == 1:\n",
    "                if assignment[c] == -1:\n",
    "                    assignment[c] = g - 1000000\n",
    "                    twins_differ.append([c, c+1])\n",
    "                else:\n",
    "                    assignment[c+1] = g - 1000000\n",
    "            elif f == 2:\n",
    "                assignment[c] = g - 1000000\n",
    "                assignment[c+1] = g - 1000000\n",
    "        else:\n",
    "            if f == 1:\n",
    "                if assignment[c] == -1:\n",
    "                    assignment[c] = g - 1000000\n",
    "                    triplets_differ.append([c, c+1, c+2])\n",
    "                elif assignment[c+1] == -1:\n",
    "                    assignment[c+1] = g - 1000000\n",
    "                else:\n",
    "                    assignment[c+2] = g - 1000000\n",
    "            elif f == 2:\n",
    "                if assignment[c] == -1:\n",
    "                    assignment[c] = g - 1000000\n",
    "                    assignment[c+1] = g - 1000000\n",
    "                    triplets_differ.append([c, c+1, c+2])\n",
    "                else:\n",
    "                    assignment[c+1] = g - 1000000\n",
    "                    assignment[c+2] = g - 1000000\n",
    "            elif f == 3:\n",
    "                assignment[c] = g - 1000000\n",
    "                assignment[c+1] = g - 1000000\n",
    "                assignment[c+2] = g - 1000000\n",
    "                \n",
    "CHILD_HAPPINESS = sum([Children[i].happiness(assignment[i])[0] for i in range(1000000)])*10\n",
    "SANTA_HAPPINESS = sum([Children[i].happiness(assignment[i])[1] for i in range(1000000)])\n",
    "OBJ = CHILD_HAPPINESS**3 + SANTA_HAPPINESS**3\n",
    "print(W_CHILD, W_GIFTS, CHILD_HAPPINESS, SANTA_HAPPINESS, OBJ)\n",
    "print(OBJ / (12000000000**3))"
   ]
  },
  {
   "cell_type": "code",
   "execution_count": 8,
   "metadata": {
    "collapsed": false
   },
   "outputs": [
    {
     "data": {
      "text/plain": [
       "(63, 2)"
      ]
     },
     "execution_count": 8,
     "metadata": {},
     "output_type": "execute_result"
    }
   ],
   "source": [
    "len(twins_differ), len(triplets_differ)"
   ]
  },
  {
   "cell_type": "code",
   "execution_count": 9,
   "metadata": {
    "collapsed": true
   },
   "outputs": [],
   "source": [
    "# well assigned twins and triplets\n",
    "well_assigned = []\n",
    "for i in range(0, 5001, 3):\n",
    "    if assignment[i] == assignment[i+1] and assignment[i] == assignment[i+2]:\n",
    "        well_assigned.append(i)\n",
    "        well_assigned.append(i+1)\n",
    "        well_assigned.append(i+2)\n",
    "for i in range(5001, 45001, 2):\n",
    "    if assignment[i] == assignment[i+1]:\n",
    "        well_assigned.append(i)\n",
    "        well_assigned.append(i+1)"
   ]
  },
  {
   "cell_type": "code",
   "execution_count": 10,
   "metadata": {
    "collapsed": false
   },
   "outputs": [
    {
     "data": {
      "text/plain": [
       "44869"
      ]
     },
     "execution_count": 10,
     "metadata": {},
     "output_type": "execute_result"
    }
   ],
   "source": [
    "len(well_assigned)"
   ]
  },
  {
   "cell_type": "code",
   "execution_count": 11,
   "metadata": {
    "collapsed": true
   },
   "outputs": [],
   "source": [
    "Gifts_left = [1000 for _ in range(1000)]\n",
    "for i in well_assigned:\n",
    "    if assignment[i] != -1:\n",
    "        Gifts_left[assignment[i]] -= 1"
   ]
  },
  {
   "cell_type": "code",
   "execution_count": 12,
   "metadata": {
    "collapsed": false
   },
   "outputs": [
    {
     "data": {
      "text/plain": [
       "958818"
      ]
     },
     "execution_count": 12,
     "metadata": {},
     "output_type": "execute_result"
    }
   ],
   "source": [
    "sum(Gifts_left)"
   ]
  },
  {
   "cell_type": "code",
   "execution_count": 13,
   "metadata": {
    "collapsed": true
   },
   "outputs": [],
   "source": [
    "# add penalty for twins and triplets\n",
    "W_CHILD = 90200000\n",
    "W_GIFTS = 20000"
   ]
  },
  {
   "cell_type": "code",
   "execution_count": 14,
   "metadata": {
    "collapsed": false
   },
   "outputs": [],
   "source": [
    "min_cost_flow_2 = pywrapgraph.SimpleMinCostFlow()\n",
    "\n",
    "start_nodes = []\n",
    "end_nodes = []\n",
    "capacities = []\n",
    "unit_costs = []\n",
    "\n",
    "\n",
    "# triplets\n",
    "for i in range(0, 5001, 3):\n",
    "    if i not in well_assigned:\n",
    "        for g in Children[i].prefer_dict.keys():\n",
    "            start_nodes.append(1000000+g)\n",
    "            end_nodes.append(i)\n",
    "            capacities.append(3)\n",
    "            unit_costs.append(1-W_CHILD*(Children[i].prefer_dict[g][0] + 6)-W_GIFTS*(Children[i].prefer_dict[g][1] + 6))\n",
    "            \n",
    "# twins\n",
    "for i in range(5001, 45001, 2):\n",
    "    if i not in well_assigned:\n",
    "        for g in Children[i].prefer_dict.keys():\n",
    "            start_nodes.append(1000000+g)\n",
    "            end_nodes.append(i)\n",
    "            capacities.append(2)\n",
    "            unit_costs.append(1-W_CHILD*(Children[i].prefer_dict[g][0] + 6)-W_GIFTS*(Children[i].prefer_dict[g][1] + 6))\n",
    "        \n",
    "# other children\n",
    "for i in range(45001, 1000000):\n",
    "    \n",
    "    for g in Children[i].prefer_dict.keys():\n",
    "        start_nodes.append(1000000+g)\n",
    "        end_nodes.append(i)\n",
    "        capacities.append(1)\n",
    "        unit_costs.append(-W_CHILD*(Children[i].prefer_dict[g][0] + 6)-W_GIFTS*(Children[i].prefer_dict[g][1] + 6))\n",
    "\n",
    "# add Arc\n",
    "# gift -> children\n",
    "for i in range(len(start_nodes)):\n",
    "    min_cost_flow_2.AddArcWithCapacityAndUnitCost(\n",
    "        int(start_nodes[i]), int(end_nodes[i]), int(capacities[i]), int(unit_costs[i])\n",
    "    )\n",
    "    \n",
    "# children -> 1001000 : collection\n",
    "for i in range(0, 5001, 3):\n",
    "    min_cost_flow_2.AddArcWithCapacityAndUnitCost(\n",
    "        int(i), int(1001000), int(3), int(0)\n",
    "    )\n",
    "for i in range(5001, 45001, 2):\n",
    "    min_cost_flow_2.AddArcWithCapacityAndUnitCost(\n",
    "        int(i), int(1001000), int(2), int(0)\n",
    "    )\n",
    "for i in range(45001, 1000000):\n",
    "    min_cost_flow_2.AddArcWithCapacityAndUnitCost(\n",
    "        int(i), int(1001000), int(1), int(0)\n",
    "    )\n",
    "    \n",
    "# gift -> 1001001 : dust_gift\n",
    "for i in range(1000):\n",
    "    min_cost_flow_2.AddArcWithCapacityAndUnitCost(\n",
    "        int(1000000+i), int(1001001), int(1000), int(0)\n",
    "    )\n",
    "    \n",
    "# 1001001 -> 1001000 : dust_path\n",
    "min_cost_flow_2.AddArcWithCapacityAndUnitCost(\n",
    "        int(1001001), int(1001000), int(1000000), int(0)\n",
    "    )\n",
    "\n",
    "\n",
    "# add Supply\n",
    "for i in range(1000):\n",
    "    min_cost_flow_2.SetNodeSupply(int(1000000+i), int(Gifts_left[i]))\n",
    "\n",
    "# children\n",
    "for i in range(0, 5001, 3):\n",
    "    min_cost_flow_2.SetNodeSupply(int(i), int(0))\n",
    "for i in range(5001, 45001, 2):\n",
    "    min_cost_flow_2.SetNodeSupply(int(i), int(0))\n",
    "for i in range(45001, 1000000):\n",
    "    min_cost_flow_2.SetNodeSupply(int(i), int(0))\n",
    "\n",
    "min_cost_flow_2.SetNodeSupply(int(1001001), int(0)) \n",
    "min_cost_flow_2.SetNodeSupply(int(1001000), int(-sum(Gifts_left))) "
   ]
  },
  {
   "cell_type": "code",
   "execution_count": 15,
   "metadata": {
    "collapsed": false
   },
   "outputs": [
    {
     "data": {
      "text/plain": [
       "1"
      ]
     },
     "execution_count": 15,
     "metadata": {},
     "output_type": "execute_result"
    }
   ],
   "source": [
    "min_cost_flow_2.Solve()"
   ]
  },
  {
   "cell_type": "code",
   "execution_count": 16,
   "metadata": {
    "collapsed": true
   },
   "outputs": [],
   "source": [
    "assignment_0 = assignment.copy()"
   ]
  },
  {
   "cell_type": "code",
   "execution_count": 17,
   "metadata": {
    "collapsed": false
   },
   "outputs": [
    {
     "name": "stdout",
     "output_type": "stream",
     "text": [
      "90200000 20000 11739596220 1709307 1617929073662152820107354405443\n",
      "0.9363015472581903\n"
     ]
    }
   ],
   "source": [
    "assignment = [-1]*1000000\n",
    "# pre-assigned\n",
    "for i in well_assigned:\n",
    "    assignment[i] = assignment_0[i]\n",
    "    \n",
    "twins_differ = []\n",
    "triplets_differ = []\n",
    "\n",
    "for i in range(min_cost_flow_2.NumArcs()):\n",
    "    if min_cost_flow_2.Flow(i) != 0 and min_cost_flow_2.Head(i) < 1000000:\n",
    "        c = min_cost_flow_2.Head(i)\n",
    "        g = min_cost_flow_2.Tail(i)\n",
    "        f = min_cost_flow_2.Flow(i)\n",
    "\n",
    "        if c >= 45001:\n",
    "            assignment[c] = g - 1000000\n",
    "\n",
    "        elif c >= 5001:\n",
    "            if f == 1:\n",
    "                if assignment[c] == -1:\n",
    "                    assignment[c] = g - 1000000\n",
    "                    twins_differ.append([c, c+1])\n",
    "                else:\n",
    "                    assignment[c+1] = g - 1000000\n",
    "            elif f == 2:\n",
    "                assignment[c] = g - 1000000\n",
    "                assignment[c+1] = g - 1000000\n",
    "        else:\n",
    "            if f == 1:\n",
    "                if assignment[c] == -1:\n",
    "                    assignment[c] = g - 1000000\n",
    "                    triplets_differ.append([c, c+1, c+2])\n",
    "                elif assignment[c+1] == -1:\n",
    "                    assignment[c+1] = g - 1000000\n",
    "                else:\n",
    "                    assignment[c+2] = g - 1000000\n",
    "            elif f == 2:\n",
    "                if assignment[c] == -1:\n",
    "                    assignment[c] = g - 1000000\n",
    "                    assignment[c+1] = g - 1000000\n",
    "                    triplets_differ.append([c, c+1, c+2])\n",
    "                else:\n",
    "                    assignment[c+1] = g - 1000000\n",
    "                    assignment[c+2] = g - 1000000\n",
    "            elif f == 3:\n",
    "                assignment[c] = g - 1000000\n",
    "                assignment[c+1] = g - 1000000\n",
    "                assignment[c+2] = g - 1000000\n",
    "                \n",
    "CHILD_HAPPINESS = sum([Children[i].happiness(assignment[i])[0] for i in range(1000000)])*10\n",
    "SANTA_HAPPINESS = sum([Children[i].happiness(assignment[i])[1] for i in range(1000000)])\n",
    "OBJ = CHILD_HAPPINESS**3 + SANTA_HAPPINESS**3\n",
    "print(W_CHILD, W_GIFTS, CHILD_HAPPINESS, SANTA_HAPPINESS, OBJ)\n",
    "print(OBJ / (12000000000**3))"
   ]
  },
  {
   "cell_type": "code",
   "execution_count": 18,
   "metadata": {
    "collapsed": false
   },
   "outputs": [
    {
     "data": {
      "text/plain": [
       "(11, 2)"
      ]
     },
     "execution_count": 18,
     "metadata": {},
     "output_type": "execute_result"
    }
   ],
   "source": [
    "len(twins_differ), len(triplets_differ)"
   ]
  },
  {
   "cell_type": "code",
   "execution_count": 19,
   "metadata": {
    "collapsed": true
   },
   "outputs": [],
   "source": [
    "# well assigned twins and triplets\n",
    "well_assigned = []\n",
    "for i in range(0, 5001, 3):\n",
    "    if assignment[i] == assignment[i+1] and assignment[i] == assignment[i+2]:\n",
    "        well_assigned.append(i)\n",
    "        well_assigned.append(i+1)\n",
    "        well_assigned.append(i+2)\n",
    "for i in range(5001, 45001, 2):\n",
    "    if assignment[i] == assignment[i+1]:\n",
    "        well_assigned.append(i)\n",
    "        well_assigned.append(i+1)"
   ]
  },
  {
   "cell_type": "code",
   "execution_count": 20,
   "metadata": {
    "collapsed": true
   },
   "outputs": [],
   "source": [
    "Gifts_left = [1000 for _ in range(1000)]\n",
    "for i in well_assigned:\n",
    "    if assignment[i] != -1:\n",
    "        Gifts_left[assignment[i]] -= 1"
   ]
  },
  {
   "cell_type": "code",
   "execution_count": 21,
   "metadata": {
    "collapsed": false
   },
   "outputs": [
    {
     "data": {
      "text/plain": [
       "44973"
      ]
     },
     "execution_count": 21,
     "metadata": {},
     "output_type": "execute_result"
    }
   ],
   "source": [
    "len(well_assigned)"
   ]
  },
  {
   "cell_type": "code",
   "execution_count": 22,
   "metadata": {
    "collapsed": true
   },
   "outputs": [],
   "source": [
    "assignment_1 = assignment.copy()"
   ]
  },
  {
   "cell_type": "code",
   "execution_count": 23,
   "metadata": {
    "collapsed": true
   },
   "outputs": [],
   "source": [
    "# add penalty for twins and triplets\n",
    "W_CHILD = 10000\n",
    "W_GIFTS = 1"
   ]
  },
  {
   "cell_type": "code",
   "execution_count": 24,
   "metadata": {
    "collapsed": true
   },
   "outputs": [],
   "source": [
    "min_cost_flow_3 = pywrapgraph.SimpleMinCostFlow()\n",
    "\n",
    "start_nodes = []\n",
    "end_nodes = []\n",
    "capacities = []\n",
    "unit_costs = []\n",
    "\n",
    "np.random.seed(71)\n",
    "\n",
    "# triplets\n",
    "for i in range(0, 5001, 3):\n",
    "    if i not in well_assigned:\n",
    "        for g in Children[i].prefer_dict.keys():\n",
    "            start_nodes.append(1000000+g)\n",
    "            end_nodes.append(i)\n",
    "            capacities.append(3)\n",
    "            unit_costs.append(np.random.choice(100)-W_CHILD*(Children[i].prefer_dict[g][0] + 6)-W_GIFTS*(Children[i].prefer_dict[g][1] + 6))\n",
    "            \n",
    "# twins\n",
    "for i in range(5001, 45001, 2):\n",
    "    if i not in well_assigned:\n",
    "        for g in Children[i].prefer_dict.keys():\n",
    "            start_nodes.append(1000000+g)\n",
    "            end_nodes.append(i)\n",
    "            capacities.append(2)\n",
    "            unit_costs.append(np.random.choice(100)-W_CHILD*(Children[i].prefer_dict[g][0] + 6)-W_GIFTS*(Children[i].prefer_dict[g][1] + 6))\n",
    "        \n",
    "# other children\n",
    "for i in range(45001, 1000000):\n",
    "    \n",
    "    for g in Children[i].prefer_dict.keys():\n",
    "        start_nodes.append(1000000+g)\n",
    "        end_nodes.append(i)\n",
    "        capacities.append(1)\n",
    "        unit_costs.append(np.random.choice(5)-W_CHILD*(Children[i].prefer_dict[g][0] + 6)-W_GIFTS*(Children[i].prefer_dict[g][1] + 6))\n",
    "\n",
    "# add Arc\n",
    "# gift -> children\n",
    "for i in range(len(start_nodes)):\n",
    "    min_cost_flow_3.AddArcWithCapacityAndUnitCost(\n",
    "        int(start_nodes[i]), int(end_nodes[i]), int(capacities[i]), int(unit_costs[i])\n",
    "    )\n",
    "    \n",
    "# children -> 1001000 : collection\n",
    "for i in range(0, 5001, 3):\n",
    "    min_cost_flow_3.AddArcWithCapacityAndUnitCost(\n",
    "        int(i), int(1001000), int(3), int(0)\n",
    "    )\n",
    "for i in range(5001, 45001, 2):\n",
    "    min_cost_flow_3.AddArcWithCapacityAndUnitCost(\n",
    "        int(i), int(1001000), int(2), int(0)\n",
    "    )\n",
    "for i in range(45001, 1000000):\n",
    "    min_cost_flow_3.AddArcWithCapacityAndUnitCost(\n",
    "        int(i), int(1001000), int(1), int(0)\n",
    "    )\n",
    "    \n",
    "# gift -> 1001001 : dust_gift\n",
    "for i in range(1000):\n",
    "    min_cost_flow_3.AddArcWithCapacityAndUnitCost(\n",
    "        int(1000000+i), int(1001001), int(1000), int(0)\n",
    "    )\n",
    "    \n",
    "# 1001001 -> 1001000 : dust_path\n",
    "min_cost_flow_3.AddArcWithCapacityAndUnitCost(\n",
    "        int(1001001), int(1001000), int(1000000), int(0)\n",
    "    )\n",
    "\n",
    "\n",
    "# add Supply\n",
    "for i in range(1000):\n",
    "    min_cost_flow_3.SetNodeSupply(int(1000000+i), int(Gifts_left[i]))\n",
    "\n",
    "# children\n",
    "for i in range(0, 5001, 3):\n",
    "    min_cost_flow_3.SetNodeSupply(int(i), int(0))\n",
    "for i in range(5001, 45001, 2):\n",
    "    min_cost_flow_3.SetNodeSupply(int(i), int(0))\n",
    "for i in range(45001, 1000000):\n",
    "    min_cost_flow_3.SetNodeSupply(int(i), int(0))\n",
    "\n",
    "min_cost_flow_3.SetNodeSupply(int(1001001), int(0)) \n",
    "min_cost_flow_3.SetNodeSupply(int(1001000), int(-sum(Gifts_left))) "
   ]
  },
  {
   "cell_type": "code",
   "execution_count": 25,
   "metadata": {
    "collapsed": false
   },
   "outputs": [
    {
     "data": {
      "text/plain": [
       "1"
      ]
     },
     "execution_count": 25,
     "metadata": {},
     "output_type": "execute_result"
    }
   ],
   "source": [
    "min_cost_flow_3.Solve()"
   ]
  },
  {
   "cell_type": "code",
   "execution_count": 26,
   "metadata": {
    "collapsed": false
   },
   "outputs": [
    {
     "name": "stdout",
     "output_type": "stream",
     "text": [
      "10000 1 11739596220 1709307 1617929073662152820107354405443\n",
      "0.9363015472581903\n"
     ]
    }
   ],
   "source": [
    "assignment = [-1]*1000000\n",
    "# pre-assigned\n",
    "for i in well_assigned:\n",
    "    assignment[i] = assignment_1[i]\n",
    "    \n",
    "twins_differ = []\n",
    "triplets_differ = []\n",
    "\n",
    "for i in range(min_cost_flow_3.NumArcs()):\n",
    "    if min_cost_flow_3.Flow(i) != 0 and min_cost_flow_3.Head(i) < 1000000:\n",
    "        c = min_cost_flow_3.Head(i)\n",
    "        g = min_cost_flow_3.Tail(i)\n",
    "        f = min_cost_flow_3.Flow(i)\n",
    "\n",
    "        if c >= 45001:\n",
    "            assignment[c] = g - 1000000\n",
    "\n",
    "        elif c >= 5001:\n",
    "            if f == 1:\n",
    "                if assignment[c] == -1:\n",
    "                    assignment[c] = g - 1000000\n",
    "                    twins_differ.append([c, c+1])\n",
    "                else:\n",
    "                    assignment[c+1] = g - 1000000\n",
    "            elif f == 2:\n",
    "                assignment[c] = g - 1000000\n",
    "                assignment[c+1] = g - 1000000\n",
    "        else:\n",
    "            if f == 1:\n",
    "                if assignment[c] == -1:\n",
    "                    assignment[c] = g - 1000000\n",
    "                    triplets_differ.append([c, c+1, c+2])\n",
    "                elif assignment[c+1] == -1:\n",
    "                    assignment[c+1] = g - 1000000\n",
    "                else:\n",
    "                    assignment[c+2] = g - 1000000\n",
    "            elif f == 2:\n",
    "                if assignment[c] == -1:\n",
    "                    assignment[c] = g - 1000000\n",
    "                    assignment[c+1] = g - 1000000\n",
    "                    triplets_differ.append([c, c+1, c+2])\n",
    "                else:\n",
    "                    assignment[c+1] = g - 1000000\n",
    "                    assignment[c+2] = g - 1000000\n",
    "            elif f == 3:\n",
    "                assignment[c] = g - 1000000\n",
    "                assignment[c+1] = g - 1000000\n",
    "                assignment[c+2] = g - 1000000\n",
    "                \n",
    "CHILD_HAPPINESS = sum([Children[i].happiness(assignment[i])[0] for i in range(1000000)])*10\n",
    "SANTA_HAPPINESS = sum([Children[i].happiness(assignment[i])[1] for i in range(1000000)])\n",
    "OBJ = CHILD_HAPPINESS**3 + SANTA_HAPPINESS**3\n",
    "print(W_CHILD, W_GIFTS, CHILD_HAPPINESS, SANTA_HAPPINESS, OBJ)\n",
    "print(OBJ / (12000000000**3))"
   ]
  },
  {
   "cell_type": "code",
   "execution_count": 27,
   "metadata": {
    "collapsed": false
   },
   "outputs": [
    {
     "data": {
      "text/plain": [
       "(1, 0)"
      ]
     },
     "execution_count": 27,
     "metadata": {},
     "output_type": "execute_result"
    }
   ],
   "source": [
    "len(twins_differ), len(triplets_differ)"
   ]
  },
  {
   "cell_type": "code",
   "execution_count": 28,
   "metadata": {
    "collapsed": false
   },
   "outputs": [
    {
     "data": {
      "text/plain": [
       "[[34267, 34268]]"
      ]
     },
     "execution_count": 28,
     "metadata": {},
     "output_type": "execute_result"
    }
   ],
   "source": [
    "twins_differ"
   ]
  },
  {
   "cell_type": "code",
   "execution_count": 45,
   "metadata": {
    "collapsed": true
   },
   "outputs": [],
   "source": [
    "# well assigned twins and triplets\n",
    "well_assigned = []\n",
    "for i in range(0, 5001, 3):\n",
    "    if assignment[i] == assignment[i+1] and assignment[i] == assignment[i+2]:\n",
    "        well_assigned.append(i)\n",
    "        well_assigned.append(i+1)\n",
    "        well_assigned.append(i+2)\n",
    "for i in range(5001, 45001, 2):\n",
    "    if assignment[i] == assignment[i+1]:\n",
    "        well_assigned.append(i)\n",
    "        well_assigned.append(i+1)"
   ]
  },
  {
   "cell_type": "code",
   "execution_count": 47,
   "metadata": {
    "collapsed": false
   },
   "outputs": [
    {
     "data": {
      "text/plain": [
       "(207, 494)"
      ]
     },
     "execution_count": 47,
     "metadata": {},
     "output_type": "execute_result"
    }
   ],
   "source": [
    "assignment[34267], assignment[34268]"
   ]
  },
  {
   "cell_type": "code",
   "execution_count": 48,
   "metadata": {
    "collapsed": true
   },
   "outputs": [],
   "source": [
    "assignment_2 = assignment.copy()"
   ]
  },
  {
   "cell_type": "code",
   "execution_count": 49,
   "metadata": {
    "collapsed": true
   },
   "outputs": [],
   "source": [
    "# assign 207\n",
    "assignment[34267] = 207\n",
    "assignment[34268] = 207"
   ]
  },
  {
   "cell_type": "code",
   "execution_count": 50,
   "metadata": {
    "collapsed": true
   },
   "outputs": [],
   "source": [
    "Gifts_left = [1000 for _ in range(1000)]\n",
    "for i in well_assigned:\n",
    "    if assignment[i] != -1:\n",
    "        Gifts_left[assignment[i]] -= 1\n",
    "Gifts_left[207] -= 2"
   ]
  },
  {
   "cell_type": "code",
   "execution_count": 51,
   "metadata": {
    "collapsed": true
   },
   "outputs": [],
   "source": [
    "# add penalty for twins and triplets\n",
    "W_CHILD = 10000\n",
    "W_GIFTS = 1"
   ]
  },
  {
   "cell_type": "code",
   "execution_count": 52,
   "metadata": {
    "collapsed": true
   },
   "outputs": [],
   "source": [
    "# without twins\n",
    "min_cost_flow_34267 = pywrapgraph.SimpleMinCostFlow()\n",
    "\n",
    "start_nodes = []\n",
    "end_nodes = []\n",
    "capacities = []\n",
    "unit_costs = []\n",
    "      \n",
    "# other children\n",
    "for i in range(45001, 1000000):\n",
    "    \n",
    "    for g in Children[i].prefer_dict.keys():\n",
    "        start_nodes.append(1000000+g)\n",
    "        end_nodes.append(i)\n",
    "        capacities.append(1)\n",
    "        unit_costs.append(-W_CHILD*(Children[i].prefer_dict[g][0] + 6)-W_GIFTS*(Children[i].prefer_dict[g][1] + 6))\n",
    "\n",
    "# add Arc\n",
    "# gift -> children\n",
    "for i in range(len(start_nodes)):\n",
    "    min_cost_flow_34267.AddArcWithCapacityAndUnitCost(\n",
    "        int(start_nodes[i]), int(end_nodes[i]), int(capacities[i]), int(unit_costs[i])\n",
    "    )\n",
    "    \n",
    "# children -> 1001000 : collection\n",
    "for i in range(45001, 1000000):\n",
    "    min_cost_flow_34267.AddArcWithCapacityAndUnitCost(\n",
    "        int(i), int(1001000), int(1), int(0)\n",
    "    )\n",
    "    \n",
    "# gift -> 1001001 : dust_gift\n",
    "for i in range(1000):\n",
    "    min_cost_flow_34267.AddArcWithCapacityAndUnitCost(\n",
    "        int(1000000+i), int(1001001), int(1000), int(0)\n",
    "    )\n",
    "    \n",
    "# 1001001 -> 1001000 : dust_path\n",
    "min_cost_flow_34267.AddArcWithCapacityAndUnitCost(\n",
    "    int(1001001), int(1001000), int(1000000), int(0)\n",
    ")\n",
    "\n",
    "\n",
    "# children\n",
    "for i in range(45001, 1000000):\n",
    "    min_cost_flow_34267.SetNodeSupply(int(i), int(0))\n",
    "\n",
    "min_cost_flow_34267.SetNodeSupply(int(1001001), int(0))\n",
    "\n",
    "\n",
    "\n"
   ]
  },
  {
   "cell_type": "code",
   "execution_count": 53,
   "metadata": {
    "collapsed": true
   },
   "outputs": [],
   "source": [
    "# add Supply\n",
    "for i in range(1000):\n",
    "    min_cost_flow_34267.SetNodeSupply(int(1000000+i), int(Gifts_left[i]))\n",
    "    \n",
    "min_cost_flow_34267.SetNodeSupply(int(1001000), int(-sum(Gifts_left)))"
   ]
  },
  {
   "cell_type": "code",
   "execution_count": 54,
   "metadata": {
    "collapsed": false
   },
   "outputs": [
    {
     "data": {
      "text/plain": [
       "1"
      ]
     },
     "execution_count": 54,
     "metadata": {},
     "output_type": "execute_result"
    }
   ],
   "source": [
    "min_cost_flow_34267.Solve()"
   ]
  },
  {
   "cell_type": "code",
   "execution_count": 55,
   "metadata": {
    "collapsed": false
   },
   "outputs": [
    {
     "name": "stdout",
     "output_type": "stream",
     "text": [
      "10000 1 11739596220 1703388 1617929073662101118387373555072\n",
      "0.9363015472581604\n"
     ]
    }
   ],
   "source": [
    "assignment = [-1]*1000000\n",
    "# pre-assigned\n",
    "for i in well_assigned:\n",
    "    assignment[i] = assignment_2[i]\n",
    "\n",
    "assignment[34267] = 207\n",
    "assignment[34268] = 207\n",
    "\n",
    "for i in range(min_cost_flow_34267.NumArcs()):\n",
    "    if min_cost_flow_34267.Flow(i) != 0 and min_cost_flow_34267.Head(i) < 1000000:\n",
    "        c = min_cost_flow_34267.Head(i)\n",
    "        g = min_cost_flow_34267.Tail(i)\n",
    "\n",
    "        assignment[c] = g - 1000000\n",
    "\n",
    "CHILD_HAPPINESS = sum([Children[i].happiness(assignment[i])[0] for i in range(1000000)])*10\n",
    "SANTA_HAPPINESS = sum([Children[i].happiness(assignment[i])[1] for i in range(1000000)])\n",
    "OBJ = CHILD_HAPPINESS**3 + SANTA_HAPPINESS**3\n",
    "print(W_CHILD, W_GIFTS, CHILD_HAPPINESS, SANTA_HAPPINESS, OBJ)\n",
    "print(OBJ / (12000000000**3))"
   ]
  },
  {
   "cell_type": "code",
   "execution_count": 56,
   "metadata": {
    "collapsed": false
   },
   "outputs": [
    {
     "data": {
      "text/plain": [
       "([2742, 950, 0], [914, 475])"
      ]
     },
     "execution_count": 56,
     "metadata": {},
     "output_type": "execute_result"
    }
   ],
   "source": [
    "unassigned_v = [0, 0, 0]\n",
    "unassigned_v_ = [0, 0]\n",
    "for i in range(5001):\n",
    "    if assignment[i] == -1:\n",
    "        unassigned_v[0] += 1\n",
    "for i in range(5001, 45001):\n",
    "    if assignment[i] == -1:\n",
    "        unassigned_v[1] += 1\n",
    "for i in range(45001, 1000000):\n",
    "    if assignment[i] == -1:\n",
    "        unassigned_v[2] += 1 \n",
    "for i in range(0, 5001, 3):\n",
    "    if assignment[i] == -1:\n",
    "        unassigned_v_[0] += 1\n",
    "for i in range(5001, 45001, 2):\n",
    "    if assignment[i] == -1:\n",
    "        unassigned_v_[1] += 1\n",
    "unassigned_v, unassigned_v_"
   ]
  },
  {
   "cell_type": "code",
   "execution_count": 57,
   "metadata": {
    "collapsed": false
   },
   "outputs": [
    {
     "name": "stdout",
     "output_type": "stream",
     "text": [
      "118 628\n",
      "240 180\n",
      "272 141\n",
      "320 496\n",
      "389 148\n",
      "494 983\n",
      "671 707\n",
      "998 409\n"
     ]
    }
   ],
   "source": [
    "Gifts_left = [1000 for _ in range(1000)]\n",
    "for i in range(1000000):\n",
    "    if assignment[i] != -1:\n",
    "        Gifts_left[assignment[i]] -= 1\n",
    "for i in range(1000):\n",
    "    if Gifts_left[i] != 0:\n",
    "        print(i, Gifts_left[i])"
   ]
  },
  {
   "cell_type": "code",
   "execution_count": 58,
   "metadata": {
    "collapsed": true
   },
   "outputs": [],
   "source": [
    "gifts_for_trips = [628, 180, 141, 496, 148, 983, 707, 409]\n",
    "gifts_for_twins = [4, 0, 0, 4, 4, 932, 2, 4]\n",
    "for i in range(8):\n",
    "    gifts_for_trips[i] -= gifts_for_twins[i]"
   ]
  },
  {
   "cell_type": "code",
   "execution_count": 59,
   "metadata": {
    "collapsed": true
   },
   "outputs": [],
   "source": [
    "gifts_left_list = []\n",
    "for i in range(gifts_for_trips[0]):\n",
    "    gifts_left_list.append(118)\n",
    "for i in range(gifts_for_trips[1]):\n",
    "    gifts_left_list.append(240)\n",
    "for i in range(gifts_for_trips[2]):\n",
    "    gifts_left_list.append(272)\n",
    "for i in range(gifts_for_trips[3]):\n",
    "    gifts_left_list.append(320)\n",
    "for i in range(gifts_for_trips[4]):\n",
    "    gifts_left_list.append(389)\n",
    "for i in range(gifts_for_trips[5]):\n",
    "    gifts_left_list.append(494)\n",
    "for i in range(gifts_for_trips[6]):\n",
    "    gifts_left_list.append(671)\n",
    "for i in range(gifts_for_trips[7]):\n",
    "    gifts_left_list.append(998)\n",
    "    \n",
    "for i in range(gifts_for_twins[0]):\n",
    "    gifts_left_list.append(118)\n",
    "for i in range(gifts_for_twins[1]):\n",
    "    gifts_left_list.append(240)\n",
    "for i in range(gifts_for_twins[2]):\n",
    "    gifts_left_list.append(272)\n",
    "for i in range(gifts_for_twins[3]):\n",
    "    gifts_left_list.append(320)\n",
    "for i in range(gifts_for_twins[4]):\n",
    "    gifts_left_list.append(389)\n",
    "for i in range(gifts_for_twins[5]):\n",
    "    gifts_left_list.append(494)\n",
    "for i in range(gifts_for_twins[6]):\n",
    "    gifts_left_list.append(671)\n",
    "for i in range(gifts_for_twins[7]):\n",
    "    gifts_left_list.append(998)"
   ]
  },
  {
   "cell_type": "code",
   "execution_count": 60,
   "metadata": {
    "collapsed": true
   },
   "outputs": [],
   "source": [
    "assignment_3 = assignment.copy()"
   ]
  },
  {
   "cell_type": "code",
   "execution_count": 61,
   "metadata": {
    "collapsed": true
   },
   "outputs": [],
   "source": [
    "ind = 0\n",
    "for i in range(1000000):\n",
    "    if assignment[i] == -1:\n",
    "        assignment[i] = gifts_left_list[ind]\n",
    "        ind += 1"
   ]
  },
  {
   "cell_type": "code",
   "execution_count": 62,
   "metadata": {
    "collapsed": true
   },
   "outputs": [],
   "source": [
    "out = open('../submit/seed71_solution.csv', 'w')\n",
    "out.write('ChildId,GiftId\\n')\n",
    "for i in range(1000000):\n",
    "    out.write(str(i) + ',' + str(assignment[i]) + '\\n')\n",
    "out.close()"
   ]
  },
  {
   "cell_type": "code",
   "execution_count": null,
   "metadata": {
    "collapsed": true
   },
   "outputs": [],
   "source": []
  },
  {
   "cell_type": "code",
   "execution_count": null,
   "metadata": {
    "collapsed": true
   },
   "outputs": [],
   "source": []
  }
 ],
 "metadata": {
  "kernelspec": {
   "display_name": "Python3",
   "language": "python",
   "name": "py35"
  },
  "language_info": {
   "codemirror_mode": {
    "name": "ipython",
    "version": 3
   },
   "file_extension": ".py",
   "mimetype": "text/x-python",
   "name": "python",
   "nbconvert_exporter": "python",
   "pygments_lexer": "ipython3",
   "version": "3.5.2"
  }
 },
 "nbformat": 4,
 "nbformat_minor": 1
}
