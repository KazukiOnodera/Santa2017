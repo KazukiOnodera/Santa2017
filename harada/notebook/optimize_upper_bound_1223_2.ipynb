{
 "cells": [
  {
   "cell_type": "code",
   "execution_count": 1,
   "metadata": {
    "collapsed": false
   },
   "outputs": [
    {
     "name": "stdout",
     "output_type": "stream",
     "text": [
      "child_wishlist.csv\n",
      "child_wishlist_v2.csv\n",
      "gift_goodkids.csv\n",
      "gift_goodkids_v2.csv\n",
      "sample_submission_random.csv\n",
      "sample_submission_random_v2.csv\n",
      "santa-gift-matching-publicleaderboard.csv\n",
      "\n",
      "normalized child happiness= 0.04621203 , normalized gift happiness -4.59355e-05\n",
      "9.868817990273061e-05\n"
     ]
    }
   ],
   "source": [
    "# This Python 3 environment comes with many helpful analytics libraries installed\n",
    "# It is defined by the kaggle/python docker image: https://github.com/kaggle/docker-python\n",
    "# For example, here's several helpful packages to load in \n",
    "\n",
    "import numpy as np # linear algebra\n",
    "import pandas as pd # data processing, CSV file I/O (e.g. pd.read_csv)\n",
    "import math\n",
    "from collections import Counter\n",
    "\n",
    "# Input data files are available in the \"../input/\" directory.\n",
    "# For example, running this (by clicking run or pressing Shift+Enter) will list the files in the input directory\n",
    "\n",
    "from subprocess import check_output\n",
    "print(check_output([\"ls\", \"../input\"]).decode(\"utf8\"))\n",
    "\n",
    "n_children = 1000000 # n children to give\n",
    "n_gift_type = 1000 # n types of gifts available\n",
    "n_gift_quantity = 1000 # each type of gifts are limited to this quantity\n",
    "n_gift_pref = 100 # number of gifts a child ranks\n",
    "n_child_pref = 1000 # number of children a gift ranks\n",
    "twins = math.ceil(0.04 * n_children / 2.) * 2    # 4% of all population, rounded to the closest number\n",
    "triplets = math.ceil(0.005 * n_children / 3.) * 3    # 0.5% of all population, rounded to the closest number\n",
    "ratio_gift_happiness = 2\n",
    "ratio_child_happiness = 2\n",
    "\n",
    "\n",
    "\n",
    "gift_pref = pd.read_csv('../input/child_wishlist_v2.csv',header=None).drop(0, 1).values\n",
    "child_pref = pd.read_csv('../input/gift_goodkids_v2.csv',header=None).drop(0, 1).values\n",
    "\n",
    "\n",
    "def lcm(a, b):\n",
    "    \"\"\"Compute the lowest common multiple of a and b\"\"\"\n",
    "    # in case of large numbers, using floor division\n",
    "    return a * b // math.gcd(a, b)\n",
    "\n",
    "def avg_normalized_happiness(pred, child_pref, gift_pref):\n",
    "    \n",
    "    # check if number of each gift exceeds n_gift_quantity\n",
    "    gift_counts = Counter(elem[1] for elem in pred)\n",
    "    for count in gift_counts.values():\n",
    "        assert count <= n_gift_quantity\n",
    "                \n",
    "    # check if triplets have the same gift\n",
    "    for t1 in np.arange(0,triplets,3):\n",
    "        triplet1 = pred[t1]\n",
    "        triplet2 = pred[t1+1]\n",
    "        triplet3 = pred[t1+2]\n",
    "        # print(t1, triplet1, triplet2, triplet3)\n",
    "        assert triplet1[1] == triplet1[1] and triplet2[1] == triplet3[1]\n",
    "                \n",
    "    # check if twins have the same gift\n",
    "    for t1 in np.arange(triplets,triplets+twins,2):\n",
    "        twin1 = pred[t1]\n",
    "        twin2 = pred[t1+1]\n",
    "        # print(t1)\n",
    "        assert twin1[1] == twin2[1]\n",
    "\n",
    "    max_child_happiness = n_gift_pref * ratio_child_happiness\n",
    "    max_gift_happiness = n_child_pref * ratio_gift_happiness\n",
    "    total_child_happiness = 0\n",
    "    total_gift_happiness = np.zeros(n_gift_type)\n",
    "    \n",
    "    for row in pred:\n",
    "        child_id = row[0]\n",
    "        gift_id = row[1]\n",
    "        \n",
    "        # check if child_id and gift_id exist\n",
    "        assert child_id < n_children\n",
    "        assert gift_id < n_gift_type\n",
    "        assert child_id >= 0 \n",
    "        assert gift_id >= 0\n",
    "        child_happiness = (n_gift_pref - np.where(gift_pref[child_id]==gift_id)[0]) * ratio_child_happiness\n",
    "        if not child_happiness:\n",
    "            child_happiness = -1\n",
    "\n",
    "        gift_happiness = ( n_child_pref - np.where(child_pref[gift_id]==child_id)[0]) * ratio_gift_happiness\n",
    "        if not gift_happiness:\n",
    "            gift_happiness = -1\n",
    "\n",
    "        total_child_happiness += child_happiness\n",
    "        total_gift_happiness[gift_id] += gift_happiness\n",
    "    \n",
    "    print('normalized child happiness=',float(total_child_happiness)/(float(n_children)*float(max_child_happiness)) , \\\n",
    "        ', normalized gift happiness',np.mean(total_gift_happiness) / float(max_gift_happiness*n_gift_quantity))\n",
    "\n",
    "    # to avoid float rounding error\n",
    "    # find common denominator\n",
    "    # NOTE: I used this code to experiment different parameters, so it was necessary to get the multiplier\n",
    "    # Note: You should hard-code the multipler to speed up, now that the parameters are finalized\n",
    "    denominator1 = n_children*max_child_happiness\n",
    "    denominator2 = n_gift_quantity*max_gift_happiness*n_gift_type\n",
    "    common_denom = lcm(denominator1, denominator2)\n",
    "    multiplier = common_denom / denominator1\n",
    "\n",
    "    # # usually denom1 > demon2\n",
    "    return float(math.pow(total_child_happiness*multiplier,3) + math.pow(np.sum(total_gift_happiness),3)) / float(math.pow(common_denom,3))\n",
    "    # return math.pow(float(total_child_happiness)/(float(n_children)*float(max_child_happiness)),2) + math.pow(np.mean(total_gift_happiness) / float(max_gift_happiness*n_gift_quantity),2)\n",
    "\n",
    "random_sub = pd.read_csv('../input/sample_submission_random_v2.csv').values.tolist()\n",
    "print(avg_normalized_happiness(random_sub, child_pref, gift_pref))"
   ]
  },
  {
   "cell_type": "code",
   "execution_count": 2,
   "metadata": {
    "collapsed": false
   },
   "outputs": [
    {
     "data": {
      "text/plain": [
       "((1000000, 100), (1000, 1000))"
      ]
     },
     "execution_count": 2,
     "metadata": {},
     "output_type": "execute_result"
    }
   ],
   "source": [
    "gift_pref.shape, child_pref.shape"
   ]
  },
  {
   "cell_type": "code",
   "execution_count": 33,
   "metadata": {
    "collapsed": true
   },
   "outputs": [],
   "source": [
    "class Child(object):\n",
    "    \n",
    "    def __init__(self, idx, prefer):\n",
    "        \n",
    "        self.idx = idx\n",
    "        self.prefer_dict = dict()\n",
    "        \n",
    "        for i in range(prefer.shape[0]):\n",
    "            self.prefer_dict[prefer[i]] = [12*(prefer.shape[0] - i), -6]\n",
    "    \n",
    "    \n",
    "    def add_gifts_prefer(self, giftid, score):\n",
    "        \n",
    "        if giftid in self.prefer_dict.keys():\n",
    "            self.prefer_dict[giftid][1] = 6*score\n",
    "        else:\n",
    "            self.prefer_dict[giftid] = [-6, 6*score]\n",
    "        \n",
    "        return None\n",
    "        \n",
    "    \n",
    "    def happiness(self, giftid):\n",
    "        \n",
    "        return self.prefer_dict.get(giftid, [-6, -6])\n",
    "    \n",
    "class Child_twin(object):\n",
    "    \n",
    "    def __init__(self, idx, prefer1, prefer2):\n",
    "        \n",
    "        self.idx = idx\n",
    "        self.prefer_dict = dict()\n",
    "        \n",
    "        for p in list(set(list(prefer1) + list(prefer2))):\n",
    "            score = 0\n",
    "            if p in list(prefer1):\n",
    "                score += 2*(100 - list(prefer1).index(p))\n",
    "            else:\n",
    "                score -= 1\n",
    "            if p in list(prefer2):\n",
    "                score += 2*(100 - list(prefer2).index(p))\n",
    "            else:\n",
    "                score -= 1\n",
    "            self.prefer_dict[p] = [3*score, -6]\n",
    "    \n",
    "    \n",
    "    def add_gifts_prefer(self, giftid, score):\n",
    "        \n",
    "        if giftid in self.prefer_dict.keys():\n",
    "            self.prefer_dict[giftid][1] = 3*score\n",
    "        else:\n",
    "            self.prefer_dict[giftid] = [-6, 3*score]\n",
    "        \n",
    "        return None\n",
    "        \n",
    "    \n",
    "    def happiness(self, giftid):\n",
    "        \n",
    "        return self.prefer_dict.get(giftid, [-6, -6])\n",
    "    \n",
    "class Child_triplet(object):\n",
    "    \n",
    "    def __init__(self, idx, prefer1, prefer2, prefer3):\n",
    "        \n",
    "        self.idx = idx\n",
    "        self.prefer_dict = dict()\n",
    "        \n",
    "        for p in list(set(list(prefer1) + list(prefer2) + list(prefer3))):\n",
    "            score = 0\n",
    "            if p in list(prefer1):\n",
    "                score += 2*(100 - list(prefer1).index(p))\n",
    "            else:\n",
    "                score -= 1\n",
    "            if p in list(prefer2):\n",
    "                score += 2*(100 - list(prefer2).index(p))\n",
    "            else:\n",
    "                score -= 1\n",
    "            if p in list(prefer3):\n",
    "                score += 2*(100 - list(prefer3).index(p))\n",
    "            else:\n",
    "                score -= 1\n",
    "            self.prefer_dict[p] = [2*score, -6]\n",
    "    \n",
    "    \n",
    "    def add_gifts_prefer(self, giftid, score):\n",
    "        \n",
    "        if giftid in self.prefer_dict.keys():\n",
    "            self.prefer_dict[giftid][1] = 2*score\n",
    "        else:\n",
    "            self.prefer_dict[giftid] = [-6, 2*score]\n",
    "        \n",
    "        return None\n",
    "        \n",
    "    \n",
    "    def happiness(self, giftid):\n",
    "        \n",
    "        return self.prefer_dict.get(giftid, [-6, -6])\n",
    "    \n",
    "    \n",
    "Children = []\n",
    "for i in range(0, 5001, 3):\n",
    "    Children.append(Child_triplet(i, gift_pref[i], gift_pref[i+1], gift_pref[i+2]))\n",
    "    Children.append(Child_triplet(i+1, gift_pref[i], gift_pref[i+1], gift_pref[i+2]))\n",
    "    Children.append(Child_triplet(i+2, gift_pref[i], gift_pref[i+1], gift_pref[i+2]))\n",
    "for i in range(5001, 45001, 2):\n",
    "    Children.append(Child_twin(i, gift_pref[i], gift_pref[i+1]))\n",
    "    Children.append(Child_twin(i+1, gift_pref[i], gift_pref[i+1]))\n",
    "Children = Children + [Child(i, gift_pref[i]) for i in range(45001, 1000000)]\n",
    "\n",
    "for j in range(1000):\n",
    "    cf = child_pref[j]\n",
    "    done_list = []\n",
    "    for i in range(cf.shape[0]):\n",
    "        if cf[i] <= 5000 and cf[i] not in done_list:\n",
    "            if cf[i] % 3 == 0:\n",
    "                cid1 = cf[i]\n",
    "                cid2 = cf[i] + 1\n",
    "                cid3 = cf[i] + 2\n",
    "                done_list.append(cid2)\n",
    "                done_list.append(cid3)\n",
    "            elif cf[i] % 3 == 1:\n",
    "                cid1 = cf[i] - 1\n",
    "                cid2 = cf[i]\n",
    "                cid3 = cf[i] + 1\n",
    "                done_list.append(cid1)\n",
    "                done_list.append(cid3)\n",
    "            else:\n",
    "                cid1 = cf[i] - 2\n",
    "                cid2 = cf[i] - 1\n",
    "                cid3 = cf[i]\n",
    "                done_list.append(cid1)\n",
    "                done_list.append(cid2)\n",
    "            if cid1 in list(cf):\n",
    "                score_ = 2*(cf.shape[0] - list(cf).index(cid1))\n",
    "            else:\n",
    "                score_ = -1\n",
    "            if cid2 in list(cf):\n",
    "                score_ += 2*(cf.shape[0] - list(cf).index(cid2))\n",
    "            else:\n",
    "                score_ += -1\n",
    "            if cid3 in list(cf):\n",
    "                score_ += 2*(cf.shape[0] - list(cf).index(cid3))\n",
    "            else:\n",
    "                score_ += -1\n",
    "            Children[cid1].add_gifts_prefer(j, score_)\n",
    "            Children[cid2].add_gifts_prefer(j, score_)\n",
    "            Children[cid3].add_gifts_prefer(j, score_)\n",
    "        elif cf[i] <= 45000 and cf[i] not in done_list:\n",
    "            if cf[i] % 2 == 0:\n",
    "                cid1 = cf[i]\n",
    "                cid2 = cf[i] + 1\n",
    "                done_list.append(cid2)\n",
    "            else:\n",
    "                cid1 = cf[i] - 1\n",
    "                cid2 = cf[i]\n",
    "                done_list.append(cid1)\n",
    "            if cid1 in list(cf):\n",
    "                score_ = 2*(cf.shape[0] - list(cf).index(cid1))\n",
    "            else:\n",
    "                score_ = -1\n",
    "            if cid2 in list(cf):\n",
    "                score_ += 2*(cf.shape[0] - list(cf).index(cid2))\n",
    "            else:\n",
    "                score_ += -1\n",
    "            Children[cid1].add_gifts_prefer(j, score_)\n",
    "            Children[cid2].add_gifts_prefer(j, score_)\n",
    "        elif cf[i] > 45000:\n",
    "            Children[cf[i]].add_gifts_prefer(j, 2*(cf.shape[0] - i))"
   ]
  },
  {
   "cell_type": "code",
   "execution_count": 57,
   "metadata": {
    "collapsed": true
   },
   "outputs": [],
   "source": [
    "from ortools.graph import pywrapgraph\n",
    "\n",
    "W_CHILD = 49184482\n",
    "W_GIFTS = 1"
   ]
  },
  {
   "cell_type": "code",
   "execution_count": 58,
   "metadata": {
    "collapsed": false
   },
   "outputs": [
    {
     "data": {
      "text/plain": [
       "48939819.81400522"
      ]
     },
     "execution_count": 58,
     "metadata": {},
     "output_type": "execute_result"
    }
   ],
   "source": [
    "11739596260**2 / 1678116**2    "
   ]
  },
  {
   "cell_type": "code",
   "execution_count": 59,
   "metadata": {
    "collapsed": false
   },
   "outputs": [],
   "source": [
    "min_cost_flow_1 = pywrapgraph.SimpleMinCostFlow()\n",
    "\n",
    "start_nodes = []\n",
    "end_nodes = []\n",
    "capacities = []\n",
    "unit_costs = []\n",
    "\n",
    "\n",
    "# triplets\n",
    "for i in range(0, 5001, 3):\n",
    "    for g in Children[i].prefer_dict.keys():\n",
    "        start_nodes.append(1000000+g)\n",
    "        end_nodes.append(i)\n",
    "        capacities.append(3)\n",
    "        unit_costs.append(-W_CHILD*(Children[i].prefer_dict[g][0] + 6)-W_GIFTS*(Children[i].prefer_dict[g][1] + 6))\n",
    "        \n",
    "# triplets\n",
    "for i in range(5001, 45001, 2):\n",
    "    for g in Children[i].prefer_dict.keys():\n",
    "        start_nodes.append(1000000+g)\n",
    "        end_nodes.append(i)\n",
    "        capacities.append(2)\n",
    "        unit_costs.append(-W_CHILD*(Children[i].prefer_dict[g][0] + 6)-W_GIFTS*(Children[i].prefer_dict[g][1] + 6))\n",
    "        \n",
    "# other children\n",
    "for i in range(45001, 1000000):\n",
    "    \n",
    "    for g in Children[i].prefer_dict.keys():\n",
    "        start_nodes.append(1000000+g)\n",
    "        end_nodes.append(i)\n",
    "        capacities.append(1)\n",
    "        unit_costs.append(-W_CHILD*(Children[i].prefer_dict[g][0] + 6)-W_GIFTS*(Children[i].prefer_dict[g][1] + 6))\n",
    "\n",
    "# add Arc\n",
    "# gift -> children\n",
    "for i in range(len(start_nodes)):\n",
    "    min_cost_flow_1.AddArcWithCapacityAndUnitCost(\n",
    "        int(start_nodes[i]), int(end_nodes[i]), int(capacities[i]), int(unit_costs[i])\n",
    "    )\n",
    "    \n",
    "# children -> 1001000 : collection\n",
    "for i in range(0, 5001, 3):\n",
    "    min_cost_flow_1.AddArcWithCapacityAndUnitCost(\n",
    "        int(i), int(1001000), int(3), int(0)\n",
    "    )\n",
    "for i in range(5001, 45001, 2):\n",
    "    min_cost_flow_1.AddArcWithCapacityAndUnitCost(\n",
    "        int(i), int(1001000), int(2), int(0)\n",
    "    )\n",
    "for i in range(45001, 1000000):\n",
    "    min_cost_flow_1.AddArcWithCapacityAndUnitCost(\n",
    "        int(i), int(1001000), int(1), int(0)\n",
    "    )\n",
    "    \n",
    "# gift -> 1001001 : dust_gift\n",
    "for i in range(1000):\n",
    "    min_cost_flow_1.AddArcWithCapacityAndUnitCost(\n",
    "        int(1000000+i), int(1001001), int(1000), int(0)\n",
    "    )\n",
    "    \n",
    "# 1001001 -> 1001000 : dust_path\n",
    "min_cost_flow_1.AddArcWithCapacityAndUnitCost(\n",
    "        int(1001001), int(1001000), int(1000000), int(0)\n",
    "    )\n",
    "\n",
    "\n",
    "# add Supply\n",
    "for i in range(1000):\n",
    "    min_cost_flow_1.SetNodeSupply(int(1000000+i), int(1000))\n",
    "\n",
    "# children\n",
    "for i in range(0, 5001, 3):\n",
    "    min_cost_flow_1.SetNodeSupply(int(i), int(0))\n",
    "for i in range(5001, 45001, 2):\n",
    "    min_cost_flow_1.SetNodeSupply(int(i), int(0))\n",
    "for i in range(45001, 1000000):\n",
    "    min_cost_flow_1.SetNodeSupply(int(i), int(0))\n",
    "\n",
    "min_cost_flow_1.SetNodeSupply(int(1001001), int(0)) \n",
    "min_cost_flow_1.SetNodeSupply(int(1001000), int(-1000000)) \n",
    "\n"
   ]
  },
  {
   "cell_type": "code",
   "execution_count": 60,
   "metadata": {
    "collapsed": false
   },
   "outputs": [
    {
     "data": {
      "text/plain": [
       "1"
      ]
     },
     "execution_count": 60,
     "metadata": {},
     "output_type": "execute_result"
    }
   ],
   "source": [
    "min_cost_flow_1.Solve()"
   ]
  },
  {
   "cell_type": "code",
   "execution_count": 61,
   "metadata": {
    "collapsed": false
   },
   "outputs": [
    {
     "name": "stdout",
     "output_type": "stream",
     "text": [
      "49184482 1 11739596260 1678116 1617929090200058768912337440896\n",
      "0.9363015568287377\n"
     ]
    }
   ],
   "source": [
    "assignment = [-1]*1000000\n",
    "twins_differ = []\n",
    "triplets_differ = []\n",
    "\n",
    "for i in range(min_cost_flow_1.NumArcs()):\n",
    "    if min_cost_flow_1.Flow(i) != 0 and min_cost_flow_1.Head(i) < 1000000:\n",
    "        c = min_cost_flow_1.Head(i)\n",
    "        g = min_cost_flow_1.Tail(i)\n",
    "        f = min_cost_flow_1.Flow(i)\n",
    "\n",
    "        if c >= 45001:\n",
    "            assignment[c] = g - 1000000\n",
    "\n",
    "        elif c >= 5001:\n",
    "            if f == 1:\n",
    "                if assignment[c] == -1:\n",
    "                    assignment[c] = g - 1000000\n",
    "                    twins_differ.append([c, c+1])\n",
    "                else:\n",
    "                    assignment[c+1] = g - 1000000\n",
    "            elif f == 2:\n",
    "                assignment[c] = g - 1000000\n",
    "                assignment[c+1] = g - 1000000\n",
    "        else:\n",
    "            if f == 1:\n",
    "                if assignment[c] == -1:\n",
    "                    assignment[c] = g - 1000000\n",
    "                    triplets_differ.append([c, c+1, c+2])\n",
    "                elif assignment[c+1] == -1:\n",
    "                    assignment[c+1] = g - 1000000\n",
    "                else:\n",
    "                    assignment[c+2] = g - 1000000\n",
    "            elif f == 2:\n",
    "                if assignment[c] == -1:\n",
    "                    assignment[c] = g - 1000000\n",
    "                    assignment[c+1] = g - 1000000\n",
    "                    triplets_differ.append([c, c+1, c+2])\n",
    "                else:\n",
    "                    assignment[c+1] = g - 1000000\n",
    "                    assignment[c+2] = g - 1000000\n",
    "            elif f == 3:\n",
    "                assignment[c] = g - 1000000\n",
    "                assignment[c+1] = g - 1000000\n",
    "                assignment[c+2] = g - 1000000\n",
    "                \n",
    "CHILD_HAPPINESS = sum([Children[i].happiness(assignment[i])[0] for i in range(1000000)])*10\n",
    "SANTA_HAPPINESS = sum([Children[i].happiness(assignment[i])[1] for i in range(1000000)])\n",
    "OBJ = CHILD_HAPPINESS**3 + SANTA_HAPPINESS**3\n",
    "print(W_CHILD, W_GIFTS, CHILD_HAPPINESS, SANTA_HAPPINESS, OBJ)\n",
    "print(OBJ / (12000000000**3))"
   ]
  },
  {
   "cell_type": "code",
   "execution_count": null,
   "metadata": {
    "collapsed": true
   },
   "outputs": [],
   "source": [
    "# 1 0 11739596260 416365 1617929090195405252193199803125\n",
    "# 0.9363015568260447\n",
    "# 794983092 1 11739596260 1673937 1617929090200023551648334443953\n",
    "# 0.9363015568287173\n",
    "# 49184482 1 11739596260 1678116 1617929090200058768912337440896\n",
    "# 0.9363015568287377\n",
    "# 48939820 1 11739596260 1673937 1617929090200023551648334443953\n",
    "# 0.9363015568287173\n",
    "# 49184482 1 11739596260 1678116 1617929090200058768912337440896\n",
    "# 0.9363015568287377"
   ]
  },
  {
   "cell_type": "markdown",
   "metadata": {},
   "source": [
    "wata: 0.9362995374"
   ]
  },
  {
   "cell_type": "code",
   "execution_count": 81,
   "metadata": {
    "collapsed": true
   },
   "outputs": [],
   "source": [
    "def loss_change(i, j):\n",
    "    return 1*(Children[i].happiness(assignment[i])[0] - Children[i].happiness(j)[0]) + 0*(Children[i].happiness(assignment[i])[1] - Children[i].happiness(j)[1])"
   ]
  },
  {
   "cell_type": "code",
   "execution_count": 62,
   "metadata": {
    "collapsed": false
   },
   "outputs": [
    {
     "data": {
      "text/plain": [
       "(94, 11)"
      ]
     },
     "execution_count": 62,
     "metadata": {},
     "output_type": "execute_result"
    }
   ],
   "source": [
    "len(twins_differ), len(triplets_differ)"
   ]
  },
  {
   "cell_type": "code",
   "execution_count": 63,
   "metadata": {
    "collapsed": true
   },
   "outputs": [],
   "source": [
    "Gifts_left = [1000 for _ in range(1000)]\n",
    "for i in range(1000000):\n",
    "    if assignment[i] != -1:\n",
    "        Gifts_left[assignment[i]] -= 1"
   ]
  },
  {
   "cell_type": "code",
   "execution_count": 64,
   "metadata": {
    "collapsed": false
   },
   "outputs": [
    {
     "name": "stdout",
     "output_type": "stream",
     "text": [
      "118 628\n",
      "240 178\n",
      "272 143\n",
      "320 496\n",
      "389 150\n",
      "494 981\n",
      "671 707\n",
      "998 409\n"
     ]
    }
   ],
   "source": [
    "for i in range(1000):\n",
    "    if Gifts_left[i] != 0:\n",
    "        print(i, Gifts_left[i])"
   ]
  },
  {
   "cell_type": "code",
   "execution_count": 65,
   "metadata": {
    "collapsed": false
   },
   "outputs": [
    {
     "data": {
      "text/plain": [
       "[118, 240, 272, 320, 389, 494, 671, 998]"
      ]
     },
     "execution_count": 65,
     "metadata": {},
     "output_type": "execute_result"
    }
   ],
   "source": [
    "[118, 240, 272, 320, 389, 494, 671, 998]"
   ]
  },
  {
   "cell_type": "code",
   "execution_count": 66,
   "metadata": {
    "collapsed": true
   },
   "outputs": [],
   "source": [
    "unassigned_v = [0, 0, 0]\n",
    "unassigned_v_ = [0, 0]\n",
    "for i in range(5001):\n",
    "    if assignment[i] == -1:\n",
    "        unassigned_v[0] += 1\n",
    "for i in range(5001, 45001):\n",
    "    if assignment[i] == -1:\n",
    "        unassigned_v[1] += 1\n",
    "for i in range(45001, 1000000):\n",
    "    if assignment[i] == -1:\n",
    "        unassigned_v[2] += 1 \n",
    "for i in range(0, 5001, 3):\n",
    "    if assignment[i] == -1:\n",
    "        unassigned_v_[0] += 1\n",
    "for i in range(5001, 45001, 2):\n",
    "    if assignment[i] == -1:\n",
    "        unassigned_v_[1] += 1"
   ]
  },
  {
   "cell_type": "code",
   "execution_count": 67,
   "metadata": {
    "collapsed": false
   },
   "outputs": [
    {
     "data": {
      "text/plain": [
       "([2751, 941, 0], [912, 455])"
      ]
     },
     "execution_count": 67,
     "metadata": {},
     "output_type": "execute_result"
    }
   ],
   "source": [
    "unassigned_v, unassigned_v_"
   ]
  },
  {
   "cell_type": "code",
   "execution_count": 68,
   "metadata": {
    "collapsed": false
   },
   "outputs": [
    {
     "data": {
      "text/plain": [
       "(2736, 910)"
      ]
     },
     "execution_count": 68,
     "metadata": {},
     "output_type": "execute_result"
    }
   ],
   "source": [
    "912*3, 455*2"
   ]
  },
  {
   "cell_type": "code",
   "execution_count": 71,
   "metadata": {
    "collapsed": false
   },
   "outputs": [
    {
     "data": {
      "text/plain": [
       "[118, 240, 272, 320, 389, 494, 671, 998]"
      ]
     },
     "execution_count": 71,
     "metadata": {},
     "output_type": "execute_result"
    }
   ],
   "source": [
    "[118, 240, 272, 320, 389, 494, 671, 998]"
   ]
  },
  {
   "cell_type": "code",
   "execution_count": 69,
   "metadata": {
    "collapsed": false
   },
   "outputs": [
    {
     "name": "stdout",
     "output_type": "stream",
     "text": [
      "[1413, 1414, 1415] [38, 402, 402]\n",
      "[1467, 1468, 1469] [466, -1, -1]\n",
      "[1647, 1648, 1649] [463, 463, 504]\n",
      "[1692, 1693, 1694] [462, -1, -1]\n",
      "[1791, 1792, 1793] [402, -1, -1]\n",
      "[1950, 1951, 1952] [218, -1, -1]\n",
      "[3675, 3676, 3677] [637, -1, -1]\n",
      "[3897, 3898, 3899] [204, 204, -1]\n",
      "[3987, 3988, 3989] [248, 248, -1]\n",
      "[4590, 4591, 4592] [759, 759, -1]\n",
      "[4743, 4744, 4745] [907, -1, -1]\n"
     ]
    }
   ],
   "source": [
    "for tri in triplets_differ:\n",
    "    print(tri, [assignment[tri[0]], assignment[tri[1]], assignment[tri[2]]])"
   ]
  },
  {
   "cell_type": "code",
   "execution_count": 70,
   "metadata": {
    "collapsed": true
   },
   "outputs": [],
   "source": [
    "assignment_save = assignment.copy()"
   ]
  },
  {
   "cell_type": "code",
   "execution_count": 91,
   "metadata": {
    "collapsed": true
   },
   "outputs": [],
   "source": [
    "# assignment = assignment_save.copy()"
   ]
  },
  {
   "cell_type": "code",
   "execution_count": 93,
   "metadata": {
    "collapsed": false
   },
   "outputs": [],
   "source": [
    "triplets_differ_1 = []\n",
    "triplets_differ_2 = []\n",
    "triplets_differ_3 = []\n",
    "\n",
    "for tri in triplets_differ:\n",
    "    if assignment[tri[2]] == -1:\n",
    "        if assignment[tri[1]] == -1:\n",
    "            triplets_differ_2.append(tri)\n",
    "        else:\n",
    "            triplets_differ_1.append(tri)\n",
    "    else:\n",
    "        if assignment[tri[0]] == assignment[tri[1]]:\n",
    "            triplets_differ_3.append(tri)\n",
    "        else:\n",
    "            assignment[tri[0]], assignment[tri[2]] = assignment[tri[2]], assignment[tri[0]]\n",
    "            triplets_differ_3.append(tri)\n",
    "            "
   ]
  },
  {
   "cell_type": "code",
   "execution_count": 95,
   "metadata": {
    "collapsed": false
   },
   "outputs": [
    {
     "data": {
      "text/plain": [
       "(3, 6, 2)"
      ]
     },
     "execution_count": 95,
     "metadata": {},
     "output_type": "execute_result"
    }
   ],
   "source": [
    "len(triplets_differ_1), len(triplets_differ_2), len(triplets_differ_3)"
   ]
  },
  {
   "cell_type": "code",
   "execution_count": 96,
   "metadata": {
    "collapsed": false
   },
   "outputs": [
    {
     "name": "stdout",
     "output_type": "stream",
     "text": [
      "54\n",
      "78\n",
      "42\n",
      "78\n",
      "78\n",
      "66\n"
     ]
    }
   ],
   "source": [
    "# [X, -1, -1]\n",
    "loss_sum = 0\n",
    "for tri in triplets_differ_2:\n",
    "    g_tri = assignment[tri[0]]\n",
    "    min_loss_1_1 = 1000000\n",
    "    # Gomi -> X\n",
    "    for i in range(45001, 1000000):\n",
    "        if assignment[i] in [118, 240, 272, 320, 389, 494, 671, 998]:\n",
    "            loss_ = loss_change(i, g_tri)\n",
    "            if loss_ < min_loss_1_1:\n",
    "                min_loss_1_1 = loss_\n",
    "                i_m_1 = i\n",
    "    min_loss_1_2 = 1000000\n",
    "    j_m_1 = 118\n",
    "    for j in [118, 240, 272, 320, 389, 494, 671, 998]:\n",
    "        loss_ = loss_change(tri[0], j)\n",
    "        if loss_ < min_loss_1_2:\n",
    "            min_loss_1_2 = loss_\n",
    "            j_m_1 = j\n",
    "    min_loss_1 = min_loss_1_1 + min_loss_1_2\n",
    "    \n",
    "    # [X, X, X]\n",
    "    i_list = []\n",
    "    loss_2_1_list = []\n",
    "    j_m_2_list = []\n",
    "    for i in range(45001, 1000000):\n",
    "        if assignment[i] == g_tri:\n",
    "            i_list.append(i)\n",
    "            loss_2_1 = 1000000\n",
    "            j_m_2 = 118\n",
    "            for j in [118, 240, 272, 320, 389, 494, 671, 998]:\n",
    "                loss_ = loss_change(i, j)\n",
    "                if loss_ < loss_2_1:\n",
    "                    loss_2_1 = loss_\n",
    "                    j_m_2 = j\n",
    "            loss_2_1_list.append(loss_2_1)\n",
    "            j_m_2_list.append(j_m_2)\n",
    "    min_los2_arg = np.argsort(loss_2_1_list)\n",
    "    loss_2 = loss_2_1_list[min_los2_arg[0]] + loss_2_1_list[min_los2_arg[1]] + 2*loss_change(tri[2], g_tri)\n",
    "    \n",
    "    # switch\n",
    "    if loss_2 >= min_loss_1:\n",
    "        loss_sum += min_loss_1\n",
    "        assignment[i_m_1] = g_tri\n",
    "        assignment[tri[0]] = j_m_1\n",
    "        assignment[tri[1]] = j_m_1\n",
    "        assignment[tri[2]] = j_m_1\n",
    "    else:\n",
    "        loss_sum += loss_2\n",
    "        assignment[i_list[min_los2_arg[0]]] = j_m_2_list[min_los2_arg[0]]\n",
    "        assignment[i_list[min_los2_arg[1]]] = j_m_2_list[min_los2_arg[1]]\n",
    "        assignment[tri[1]] = g_tri\n",
    "        assignment[tri[2]] = g_tri\n",
    "    print(min(min_loss_1, loss_2))"
   ]
  },
  {
   "cell_type": "code",
   "execution_count": 97,
   "metadata": {
    "collapsed": false
   },
   "outputs": [
    {
     "name": "stdout",
     "output_type": "stream",
     "text": [
      "160\n",
      "132\n",
      "66\n"
     ]
    }
   ],
   "source": [
    "# [X, X, -1]\n",
    "for tri in triplets_differ_1:\n",
    "    g_tri = assignment[tri[0]]\n",
    "    # Gomi -> X\n",
    "    min_loss_1_1_list = []\n",
    "    i_list = []\n",
    "    for i in range(45001, 1000000):\n",
    "        if assignment[i] in [118, 240, 272, 320, 389, 494, 671, 998]:\n",
    "            loss_ = loss_change(i, g_tri)\n",
    "            i_list.append(i)\n",
    "            min_loss_1_1_list.append(loss_)\n",
    "    min_loss_1_2 = 1000000\n",
    "    j_m_1 = 118\n",
    "    for j in [118, 240, 272, 320, 389, 494, 671, 998]:\n",
    "        loss_ = loss_change(tri[0], j)\n",
    "        if loss_ < min_loss_1_2:\n",
    "            min_loss_1_2 = loss_\n",
    "            j_m_1 = j\n",
    "    min_los1_arg = np.argsort(min_loss_1_1_list)\n",
    "    min_loss_1 = min_loss_1_1_list[min_los1_arg[0]] + min_loss_1_1_list[min_los1_arg[1]] + 2*min_loss_1_2\n",
    "    \n",
    "    # [X, X, X]\n",
    "    i_m_2 = 0\n",
    "    loss_2_1 = 1000000\n",
    "    j_m_2 = 0\n",
    "    for i in range(45001, 1000000):\n",
    "        if assignment[i] == g_tri:\n",
    "            for j in [118, 240, 272, 320, 389, 494, 671, 998]:\n",
    "                loss_ = loss_change(i, j)\n",
    "                if loss_ < loss_2_1:\n",
    "                    loss_2_1 = loss_\n",
    "                    j_m_2 = j\n",
    "                    i_m_2 = i\n",
    "                    \n",
    "    loss_2 = loss_2_1 + loss_change(tri[2], g_tri)\n",
    "    \n",
    "    # switch\n",
    "    if loss_2 >= min_loss_1:\n",
    "        loss_sum += min_loss_1\n",
    "        assignment[i_list[min_los1_arg[0]]] = g_tri\n",
    "        assignment[i_list[min_los1_arg[1]]] = g_tri\n",
    "        assignment[tri[0]] = j_m_1\n",
    "        assignment[tri[1]] = j_m_1\n",
    "        assignment[tri[2]] = j_m_1\n",
    "    else:\n",
    "        loss_sum += loss_2\n",
    "        assignment[i_m_2] = j_m_2\n",
    "        assignment[tri[2]] = g_tri\n",
    "    print(min(min_loss_1, loss_2))"
   ]
  },
  {
   "cell_type": "code",
   "execution_count": 100,
   "metadata": {
    "collapsed": false
   },
   "outputs": [
    {
     "name": "stdout",
     "output_type": "stream",
     "text": [
      "12\n",
      "12\n"
     ]
    }
   ],
   "source": [
    "# [X, X, Y]\n",
    "for tri in triplets_differ_3:\n",
    "    min_loss = 1000000\n",
    "    \n",
    "    t0 = tri[0]\n",
    "    t1 = tri[2]\n",
    "    flg = 0\n",
    "    \n",
    "    gid = assignment[t0]\n",
    "    g = assignment[t1]\n",
    "    for i in range(45001, 1000000):\n",
    "        if assignment[i] == gid:\n",
    "            loss_ = loss_change(i, g) + loss_change(t1, gid)\n",
    "            if loss_ < min_loss:\n",
    "                min_loss = loss_\n",
    "                i_m = i\n",
    "                    \n",
    "    gid = assignment[t1]\n",
    "    g = assignment[t0]\n",
    "    loss_list = []\n",
    "    i_list = []\n",
    "    for i in range(45001, 1000000):\n",
    "        if assignment[i] == gid:\n",
    "            i_list.append(i)\n",
    "            loss_ = loss_change(i, g) + loss_change(t1, gid)\n",
    "            loss_list.append(loss_)\n",
    "            \n",
    "    loss_list_s = np.argsort(loss_list)\n",
    "    \n",
    "    if loss_list[loss_list_s[0]] + loss_list[loss_list_s[1]] < min_loss:\n",
    "        min_loss = loss_list[loss_list_s[0]] + loss_list[loss_list_s[1]]\n",
    "        i_m_1 = i_list[loss_list_s[0]]\n",
    "        i_m_2 = i_list[loss_list_s[1]]\n",
    "        flg = 1\n",
    "        \n",
    "                    \n",
    "    print(min_loss)\n",
    "    loss_sum += min_loss\n",
    "    \n",
    "    if flg == 0:\n",
    "        assignment[t1], assignment[i_m] = assignment[i_m], assignment[t1]\n",
    "    else:\n",
    "        assignment[t0], assignment[t0+1], assignment[i_m_1], assignment[i_m_2] = assignment[i_m_1], assignment[i_m_2], assignment[t0], assignment[t0+1]"
   ]
  },
  {
   "cell_type": "code",
   "execution_count": 101,
   "metadata": {
    "collapsed": false
   },
   "outputs": [
    {
     "name": "stdout",
     "output_type": "stream",
     "text": [
      "778\n"
     ]
    }
   ],
   "source": [
    "print(loss_sum)"
   ]
  },
  {
   "cell_type": "code",
   "execution_count": 102,
   "metadata": {
    "collapsed": true
   },
   "outputs": [],
   "source": [
    "assignment_save_2 = assignment.copy()"
   ]
  },
  {
   "cell_type": "code",
   "execution_count": 103,
   "metadata": {
    "collapsed": false
   },
   "outputs": [],
   "source": [
    "twins_differ_1 = []\n",
    "twins_differ_2 = []\n",
    "\n",
    "for twi in twins_differ:\n",
    "    if assignment[twi[1]] == -1:\n",
    "        twins_differ_1.append(twi)\n",
    "    else:\n",
    "        twins_differ_2.append(twi)"
   ]
  },
  {
   "cell_type": "code",
   "execution_count": 104,
   "metadata": {
    "collapsed": false
   },
   "outputs": [
    {
     "name": "stdout",
     "output_type": "stream",
     "text": [
      "118 607\n",
      "240 179\n",
      "272 144\n",
      "320 497\n",
      "389 151\n",
      "494 981\n",
      "671 707\n",
      "998 411\n"
     ]
    }
   ],
   "source": [
    "Gifts_left = [1000 for _ in range(1000)]\n",
    "for i in range(1000000):\n",
    "    if assignment[i] != -1:\n",
    "        Gifts_left[assignment[i]] -= 1\n",
    "for i in range(1000):\n",
    "    if Gifts_left[i] != 0:\n",
    "        print(i, Gifts_left[i])"
   ]
  },
  {
   "cell_type": "code",
   "execution_count": 105,
   "metadata": {
    "collapsed": false
   },
   "outputs": [
    {
     "data": {
      "text/plain": [
       "(31, 63)"
      ]
     },
     "execution_count": 105,
     "metadata": {},
     "output_type": "execute_result"
    }
   ],
   "source": [
    "len(twins_differ_1), len(twins_differ_2)"
   ]
  },
  {
   "cell_type": "code",
   "execution_count": 106,
   "metadata": {
    "collapsed": false
   },
   "outputs": [
    {
     "name": "stdout",
     "output_type": "stream",
     "text": [
      "6\n",
      "30\n",
      "42\n",
      "102\n",
      "6\n",
      "30\n",
      "18\n",
      "18\n",
      "42\n",
      "6\n",
      "42\n",
      "114\n",
      "18\n",
      "54\n",
      "54\n",
      "42\n",
      "30\n",
      "6\n",
      "54\n",
      "42\n",
      "42\n",
      "18\n",
      "66\n",
      "42\n",
      "6\n",
      "66\n",
      "42\n",
      "30\n",
      "18\n",
      "54\n",
      "30\n"
     ]
    }
   ],
   "source": [
    "# [X, -1]\n",
    "for twi in twins_differ_1:\n",
    "    g_twi = assignment[twi[0]]\n",
    "    min_loss_1_1 = 1000000\n",
    "    # Gomi -> X\n",
    "    for i in range(45001, 1000000):\n",
    "        if assignment[i] in [118, 240, 272, 320, 389, 494, 671, 998]:\n",
    "            loss_ = Children[i].happiness(assignment[i])[0] - Children[i].happiness(g_twi)[0]\n",
    "            if loss_ < min_loss_1_1:\n",
    "                min_loss_1_1 = loss_\n",
    "                i_m_1 = i\n",
    "    min_loss_1_2 = 1000000\n",
    "    j_m_1 = 118\n",
    "    for j in [118, 240, 272, 320, 389, 494, 671, 998]:\n",
    "        loss_ = Children[twi[0]].happiness(g_twi)[0] - Children[twi[0]].happiness(j)[0]\n",
    "        if loss_ < min_loss_1_2:\n",
    "            min_loss_1_2 = loss_\n",
    "            j_m_1 = j\n",
    "    min_loss_1 = min_loss_1_1 + min_loss_1_2\n",
    "    \n",
    "    # [X, X]\n",
    "    i_m_2 = 0\n",
    "    loss_2_1 = 1000000\n",
    "    j_m_2 = 0\n",
    "    for i in range(45001, 1000000):\n",
    "        if assignment[i] == g_twi:\n",
    "            for j in [118, 240, 272, 320, 389, 494, 671, 998]:\n",
    "                loss_ = Children[i].happiness(g_twi)[0] - Children[i].happiness(j)[0]\n",
    "                if loss_ < loss_2_1:\n",
    "                    loss_2_1 = loss_\n",
    "                    j_m_2 = j\n",
    "                    i_m_2 = i\n",
    "                    \n",
    "    loss_2 = loss_2_1 + (Children[twi[0]].happiness(-1)[0] - Children[twi[0]].happiness(g_twi)[0])\n",
    "    \n",
    "    # switch\n",
    "    if loss_2 >= min_loss_1:\n",
    "        loss_sum += min_loss_1\n",
    "        assignment[i_m_1] = g_twi\n",
    "        assignment[twi[0]] = j_m_1\n",
    "        assignment[twi[1]] = j_m_1\n",
    "    else:\n",
    "        loss_sum += loss_2\n",
    "        assignment[i_m_2] = j_m_2\n",
    "        assignment[twi[1]] = g_twi\n",
    "    print(min(min_loss_1, loss_2))"
   ]
  },
  {
   "cell_type": "code",
   "execution_count": 107,
   "metadata": {
    "collapsed": false
   },
   "outputs": [
    {
     "name": "stdout",
     "output_type": "stream",
     "text": [
      "118 566\n",
      "240 184\n",
      "272 148\n",
      "320 497\n",
      "389 151\n",
      "494 981\n",
      "671 706\n",
      "998 413\n"
     ]
    }
   ],
   "source": [
    "Gifts_left = [1000 for _ in range(1000)]\n",
    "for i in range(1000000):\n",
    "    if assignment[i] != -1:\n",
    "        Gifts_left[assignment[i]] -= 1\n",
    "for i in range(1000):\n",
    "    if Gifts_left[i] != 0:\n",
    "        print(i, Gifts_left[i])"
   ]
  },
  {
   "cell_type": "code",
   "execution_count": 108,
   "metadata": {
    "collapsed": true
   },
   "outputs": [],
   "source": [
    "assignment_save_3 = assignment.copy()"
   ]
  },
  {
   "cell_type": "code",
   "execution_count": 110,
   "metadata": {
    "collapsed": true
   },
   "outputs": [],
   "source": [
    "# assignment = assignment_save_3.copy()"
   ]
  },
  {
   "cell_type": "code",
   "execution_count": 112,
   "metadata": {
    "collapsed": false
   },
   "outputs": [
    {
     "name": "stdout",
     "output_type": "stream",
     "text": [
      "12\n",
      "12\n",
      "12\n",
      "24\n",
      "12\n",
      "0\n",
      "12\n",
      "0\n",
      "12\n",
      "12\n",
      "12\n",
      "0\n",
      "0\n",
      "12\n",
      "12\n",
      "12\n",
      "0\n",
      "18\n",
      "24\n",
      "12\n",
      "12\n",
      "0\n",
      "12\n",
      "24\n",
      "0\n",
      "0\n",
      "0\n",
      "12\n",
      "24\n",
      "6\n",
      "12\n",
      "12\n",
      "12\n",
      "72\n",
      "12\n",
      "12\n",
      "0\n",
      "12\n",
      "0\n",
      "12\n",
      "12\n",
      "0\n",
      "0\n",
      "0\n",
      "12\n",
      "12\n",
      "0\n",
      "12\n",
      "6\n",
      "6\n",
      "12\n",
      "12\n",
      "12\n",
      "0\n",
      "0\n",
      "0\n",
      "12\n",
      "36\n",
      "12\n",
      "0\n",
      "0\n",
      "12\n",
      "0\n"
     ]
    }
   ],
   "source": [
    "for twi in twins_differ_2:\n",
    "    min_loss = 1000000\n",
    "    \n",
    "    t0 = twi[0]\n",
    "    t1 = twi[1]\n",
    "    flg = 0\n",
    "    \n",
    "    gid = assignment[t0]\n",
    "    g = assignment[t1]\n",
    "    for i in range(45001, 1000000):\n",
    "        if assignment[i] == gid:\n",
    "            loss_ = Children[i].happiness(assignment[i])[0] - Children[i].happiness(g)[0] + Children[t1].happiness(g)[0] - Children[t1].happiness(gid)[0]\n",
    "            if loss_ < min_loss:\n",
    "                min_loss = loss_\n",
    "                i_m = i\n",
    "                    \n",
    "    gid = assignment[t1]\n",
    "    g = assignment[t0]\n",
    "    for i in range(45001, 1000000):\n",
    "        if assignment[i] == gid:\n",
    "            loss_ = Children[i].happiness(assignment[i])[0] - Children[i].happiness(g)[0] + Children[t0].happiness(g)[0] - Children[t0].happiness(gid)[0]\n",
    "            if loss_ < min_loss:\n",
    "                min_loss = loss_\n",
    "                i_m = i\n",
    "                flg = 1\n",
    "    print(min_loss)\n",
    "    loss_sum += min_loss\n",
    "    if flg == 0:\n",
    "        assignment[t1], assignment[i_m] = assignment[i_m], assignment[t1]\n",
    "    else:\n",
    "        assignment[t0], assignment[i_m] = assignment[i_m], assignment[t0]"
   ]
  },
  {
   "cell_type": "code",
   "execution_count": 113,
   "metadata": {
    "collapsed": true
   },
   "outputs": [],
   "source": [
    "# check twins and triplets\n",
    "for i in range(0, 5001, 3):\n",
    "    if assignment[i] == assignment[i+1] and assignment[i] == assignment[i+2]:\n",
    "        pass\n",
    "    else:\n",
    "        print(i)\n",
    "for i in range(5001, 45001, 2):\n",
    "    if assignment[i] != assignment[i+1]:\n",
    "        print(i)"
   ]
  },
  {
   "cell_type": "code",
   "execution_count": 132,
   "metadata": {
    "collapsed": false
   },
   "outputs": [
    {
     "data": {
      "text/plain": [
       "2572"
      ]
     },
     "execution_count": 132,
     "metadata": {},
     "output_type": "execute_result"
    }
   ],
   "source": [
    "loss_sum"
   ]
  },
  {
   "cell_type": "code",
   "execution_count": 133,
   "metadata": {
    "collapsed": false
   },
   "outputs": [
    {
     "data": {
      "text/plain": [
       "0.9362954028775838"
      ]
     },
     "execution_count": 133,
     "metadata": {},
     "output_type": "execute_result"
    }
   ],
   "source": [
    "((11739596260-25720) / 12000000000)**3"
   ]
  },
  {
   "cell_type": "code",
   "execution_count": 120,
   "metadata": {
    "collapsed": true
   },
   "outputs": [],
   "source": [
    "unassigned_v = [0, 0, 0]\n",
    "unassigned_v_ = [0, 0]\n",
    "for i in range(5001):\n",
    "    if assignment[i] == -1:\n",
    "        unassigned_v[0] += 1\n",
    "for i in range(5001, 45001):\n",
    "    if assignment[i] == -1:\n",
    "        unassigned_v[1] += 1\n",
    "for i in range(45001, 1000000):\n",
    "    if assignment[i] == -1:\n",
    "        unassigned_v[2] += 1 \n",
    "for i in range(0, 5001, 3):\n",
    "    if assignment[i] == -1:\n",
    "        unassigned_v_[0] += 1\n",
    "for i in range(5001, 45001, 2):\n",
    "    if assignment[i] == -1:\n",
    "        unassigned_v_[1] += 1"
   ]
  },
  {
   "cell_type": "code",
   "execution_count": 121,
   "metadata": {
    "collapsed": false
   },
   "outputs": [
    {
     "data": {
      "text/plain": [
       "([2736, 910, 0], [912, 455])"
      ]
     },
     "execution_count": 121,
     "metadata": {},
     "output_type": "execute_result"
    }
   ],
   "source": [
    "unassigned_v, unassigned_v_"
   ]
  },
  {
   "cell_type": "code",
   "execution_count": 119,
   "metadata": {
    "collapsed": false
   },
   "outputs": [
    {
     "name": "stdout",
     "output_type": "stream",
     "text": [
      "118 566\n",
      "240 184\n",
      "272 148\n",
      "320 497\n",
      "389 151\n",
      "494 981\n",
      "671 706\n",
      "998 413\n"
     ]
    }
   ],
   "source": [
    "Gifts_left = [1000 for _ in range(1000)]\n",
    "for i in range(1000000):\n",
    "    if assignment[i] != -1:\n",
    "        Gifts_left[assignment[i]] -= 1\n",
    "for i in range(1000):\n",
    "    if Gifts_left[i] != 0:\n",
    "        print(i, Gifts_left[i])"
   ]
  },
  {
   "cell_type": "code",
   "execution_count": 125,
   "metadata": {
    "collapsed": true
   },
   "outputs": [],
   "source": [
    "gifts_for_trips = [566, 184, 148, 497, 151, 981, 706, 413]\n",
    "gifts_for_twins = [2, 4, 4, 2, 4, 888, 4, 2]\n",
    "for i in range(8):\n",
    "    gifts_for_trips[i] -= gifts_for_twins[i]"
   ]
  },
  {
   "cell_type": "code",
   "execution_count": 128,
   "metadata": {
    "collapsed": true
   },
   "outputs": [],
   "source": [
    "gifts_left_list = []\n",
    "for i in range(gifts_for_trips[0]):\n",
    "    gifts_left_list.append(118)\n",
    "for i in range(gifts_for_trips[1]):\n",
    "    gifts_left_list.append(240)\n",
    "for i in range(gifts_for_trips[2]):\n",
    "    gifts_left_list.append(272)\n",
    "for i in range(gifts_for_trips[3]):\n",
    "    gifts_left_list.append(320)\n",
    "for i in range(gifts_for_trips[4]):\n",
    "    gifts_left_list.append(389)\n",
    "for i in range(gifts_for_trips[5]):\n",
    "    gifts_left_list.append(494)\n",
    "for i in range(gifts_for_trips[6]):\n",
    "    gifts_left_list.append(671)\n",
    "for i in range(gifts_for_trips[7]):\n",
    "    gifts_left_list.append(998)\n",
    "    \n",
    "for i in range(gifts_for_twins[0]):\n",
    "    gifts_left_list.append(118)\n",
    "for i in range(gifts_for_twins[1]):\n",
    "    gifts_left_list.append(240)\n",
    "for i in range(gifts_for_twins[2]):\n",
    "    gifts_left_list.append(272)\n",
    "for i in range(gifts_for_twins[3]):\n",
    "    gifts_left_list.append(320)\n",
    "for i in range(gifts_for_twins[4]):\n",
    "    gifts_left_list.append(389)\n",
    "for i in range(gifts_for_twins[5]):\n",
    "    gifts_left_list.append(494)\n",
    "for i in range(gifts_for_twins[6]):\n",
    "    gifts_left_list.append(671)\n",
    "for i in range(gifts_for_twins[7]):\n",
    "    gifts_left_list.append(998)"
   ]
  },
  {
   "cell_type": "code",
   "execution_count": 129,
   "metadata": {
    "collapsed": true
   },
   "outputs": [],
   "source": [
    "assignment_save_4 = assignment.copy()"
   ]
  },
  {
   "cell_type": "code",
   "execution_count": 130,
   "metadata": {
    "collapsed": true
   },
   "outputs": [],
   "source": [
    "ind = 0\n",
    "for i in range(1000000):\n",
    "    if assignment[i] == -1:\n",
    "        assignment[i] = gifts_left_list[ind]\n",
    "        ind += 1"
   ]
  },
  {
   "cell_type": "code",
   "execution_count": 131,
   "metadata": {
    "collapsed": true
   },
   "outputs": [],
   "source": [
    "out = open('../submit/subm_hrd_new_3.csv', 'w')\n",
    "out.write('ChildId,GiftId\\n')\n",
    "for i in range(1000000):\n",
    "    out.write(str(i) + ',' + str(assignment[i]) + '\\n')\n",
    "out.close()"
   ]
  },
  {
   "cell_type": "code",
   "execution_count": null,
   "metadata": {
    "collapsed": true
   },
   "outputs": [],
   "source": []
  },
  {
   "cell_type": "code",
   "execution_count": null,
   "metadata": {
    "collapsed": true
   },
   "outputs": [],
   "source": []
  },
  {
   "cell_type": "code",
   "execution_count": null,
   "metadata": {
    "collapsed": true
   },
   "outputs": [],
   "source": []
  },
  {
   "cell_type": "code",
   "execution_count": null,
   "metadata": {
    "collapsed": true
   },
   "outputs": [],
   "source": []
  },
  {
   "cell_type": "code",
   "execution_count": null,
   "metadata": {
    "collapsed": true
   },
   "outputs": [],
   "source": []
  },
  {
   "cell_type": "code",
   "execution_count": 83,
   "metadata": {
    "collapsed": false
   },
   "outputs": [
    {
     "data": {
      "text/plain": [
       "3761"
      ]
     },
     "execution_count": 83,
     "metadata": {},
     "output_type": "execute_result"
    }
   ],
   "source": [
    "len(gifts_left_list)"
   ]
  },
  {
   "cell_type": "code",
   "execution_count": 73,
   "metadata": {
    "collapsed": false
   },
   "outputs": [
    {
     "data": {
      "text/plain": [
       "11739493500"
      ]
     },
     "execution_count": 73,
     "metadata": {},
     "output_type": "execute_result"
    }
   ],
   "source": [
    "sum([Children[i].happiness(assignment[i])[0] for i in range(1000000)])*10"
   ]
  },
  {
   "cell_type": "code",
   "execution_count": 74,
   "metadata": {
    "collapsed": false
   },
   "outputs": [
    {
     "data": {
      "text/plain": [
       "125802"
      ]
     },
     "execution_count": 74,
     "metadata": {},
     "output_type": "execute_result"
    }
   ],
   "source": [
    "sum([Children[i].happiness(assignment[i])[1] for i in range(1000000)])"
   ]
  },
  {
   "cell_type": "code",
   "execution_count": 75,
   "metadata": {
    "collapsed": false
   },
   "outputs": [
    {
     "data": {
      "text/plain": [
       "0.9362769699057234"
      ]
     },
     "execution_count": 75,
     "metadata": {},
     "output_type": "execute_result"
    }
   ],
   "source": [
    "((11739493500**3) + (125802**3)) / (12000000000**3)"
   ]
  },
  {
   "cell_type": "code",
   "execution_count": 77,
   "metadata": {
    "collapsed": false
   },
   "outputs": [],
   "source": []
  },
  {
   "cell_type": "code",
   "execution_count": null,
   "metadata": {
    "collapsed": true
   },
   "outputs": [],
   "source": []
  },
  {
   "cell_type": "code",
   "execution_count": null,
   "metadata": {
    "collapsed": true
   },
   "outputs": [],
   "source": []
  },
  {
   "cell_type": "code",
   "execution_count": 65,
   "metadata": {
    "collapsed": true
   },
   "outputs": [],
   "source": [
    "unassigned_v = [0, 0, 0]\n",
    "unassigned_v_ = [0, 0]\n",
    "for i in range(5001):\n",
    "    if assignment[i] == -1:\n",
    "        unassigned_v[0] += 1\n",
    "for i in range(5001, 45001):\n",
    "    if assignment[i] == -1:\n",
    "        unassigned_v[1] += 1\n",
    "for i in range(45001, 1000000):\n",
    "    if assignment[i] == -1:\n",
    "        unassigned_v[2] += 1 \n",
    "for i in range(0, 5001, 3):\n",
    "    if assignment[i] == -1:\n",
    "        unassigned_v_[0] += 1\n",
    "for i in range(5001, 45001, 2):\n",
    "    if assignment[i] == -1:\n",
    "        unassigned_v_[1] += 1"
   ]
  },
  {
   "cell_type": "code",
   "execution_count": 66,
   "metadata": {
    "collapsed": false
   },
   "outputs": [
    {
     "data": {
      "text/plain": [
       "([2835, 926, 0], [945, 463])"
      ]
     },
     "execution_count": 66,
     "metadata": {},
     "output_type": "execute_result"
    }
   ],
   "source": [
    "unassigned_v, unassigned_v_"
   ]
  },
  {
   "cell_type": "code",
   "execution_count": 67,
   "metadata": {
    "collapsed": false
   },
   "outputs": [
    {
     "data": {
      "text/plain": [
       "11739499020"
      ]
     },
     "execution_count": 67,
     "metadata": {},
     "output_type": "execute_result"
    }
   ],
   "source": [
    "sum([Children[i].happiness(assignment[i])[0] for i in range(1000000)])*10"
   ]
  },
  {
   "cell_type": "code",
   "execution_count": 68,
   "metadata": {
    "collapsed": false
   },
   "outputs": [
    {
     "data": {
      "text/plain": [
       "125802"
      ]
     },
     "execution_count": 68,
     "metadata": {},
     "output_type": "execute_result"
    }
   ],
   "source": [
    "sum([Children[i].happiness(assignment[i])[1] for i in range(1000000)])"
   ]
  },
  {
   "cell_type": "code",
   "execution_count": 69,
   "metadata": {
    "collapsed": false
   },
   "outputs": [
    {
     "data": {
      "text/plain": [
       "0.9362782906402093"
      ]
     },
     "execution_count": 69,
     "metadata": {},
     "output_type": "execute_result"
    }
   ],
   "source": [
    "((11739499020**3) + (125802**3)) / (12000000000**3)"
   ]
  },
  {
   "cell_type": "code",
   "execution_count": null,
   "metadata": {
    "collapsed": true
   },
   "outputs": [],
   "source": []
  },
  {
   "cell_type": "code",
   "execution_count": null,
   "metadata": {
    "collapsed": true
   },
   "outputs": [],
   "source": []
  },
  {
   "cell_type": "code",
   "execution_count": null,
   "metadata": {
    "collapsed": true
   },
   "outputs": [],
   "source": []
  }
 ],
 "metadata": {
  "kernelspec": {
   "display_name": "Python3",
   "language": "python",
   "name": "py35"
  },
  "language_info": {
   "codemirror_mode": {
    "name": "ipython",
    "version": 3
   },
   "file_extension": ".py",
   "mimetype": "text/x-python",
   "name": "python",
   "nbconvert_exporter": "python",
   "pygments_lexer": "ipython3",
   "version": "3.5.2"
  }
 },
 "nbformat": 4,
 "nbformat_minor": 1
}
