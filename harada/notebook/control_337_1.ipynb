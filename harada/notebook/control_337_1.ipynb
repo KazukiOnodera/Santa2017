{
 "cells": [
  {
   "cell_type": "code",
   "execution_count": 1,
   "metadata": {
    "collapsed": false
   },
   "outputs": [
    {
     "name": "stdout",
     "output_type": "stream",
     "text": [
      "child_wishlist.csv\n",
      "gift_goodkids.csv\n",
      "sample_submission_random.csv\n",
      "\n",
      "normalized child happiness= -0.04404195 , normalized gift happiness 1.18475e-05\n",
      "-0.0440301025\n"
     ]
    }
   ],
   "source": [
    "# This Python 3 environment comes with many helpful analytics libraries installed\n",
    "# It is defined by the kaggle/python docker image: https://github.com/kaggle/docker-python\n",
    "# For example, here's several helpful packages to load in \n",
    "\n",
    "import numpy as np # linear algebra\n",
    "import pandas as pd # data processing, CSV file I/O (e.g. pd.read_csv)\n",
    "\n",
    "# Input data files are available in the \"../input/\" directory.\n",
    "# For example, running this (by clicking run or pressing Shift+Enter) will list the files in the input directory\n",
    "\n",
    "from subprocess import check_output\n",
    "print(check_output([\"ls\", \"../input\"]).decode(\"utf8\"))\n",
    "\n",
    "# Any results you write to the current directory are saved as output.\n",
    "\n",
    "\n",
    "import pandas as pd\n",
    "import numpy as np\n",
    "from collections import Counter\n",
    "\n",
    "n_children = 1000000 # n children to give\n",
    "n_gift_type = 1000 # n types of gifts available\n",
    "n_gift_quantity = 1000 # each type of gifts are limited to this quantity\n",
    "n_gift_pref = 10 # number of gifts a child ranks\n",
    "n_child_pref = 1000 # number of children a gift ranks\n",
    "twins = int(0.004 * n_children)    # 0.4% of all population, rounded to the closest even number\n",
    "ratio_gift_happiness = 2\n",
    "ratio_child_happiness = 2\n",
    "\n",
    "\n",
    "gift_pref = pd.read_csv('../input/child_wishlist.csv',header=None).drop(0, 1).values\n",
    "child_pref = pd.read_csv('../input/gift_goodkids.csv',header=None).drop(0, 1).values\n",
    "\n",
    "\n",
    "def avg_normalized_happiness(pred, child_pref, gift_pref):\n",
    "    \n",
    "    # check if number of each gift exceeds n_gift_quantity\n",
    "    gift_counts = Counter(elem[1] for elem in pred)\n",
    "    for count in gift_counts.values():\n",
    "        assert count <= n_gift_quantity\n",
    "                \n",
    "    # check if twins have the same gift\n",
    "    for t1 in range(0,twins,2):\n",
    "        twin1 = pred[t1]\n",
    "        twin2 = pred[t1+1]\n",
    "        assert twin1[1] == twin2[1]\n",
    "    \n",
    "    max_child_happiness = n_gift_pref * ratio_child_happiness\n",
    "    max_gift_happiness = n_child_pref * ratio_gift_happiness\n",
    "    total_child_happiness = 0\n",
    "    total_gift_happiness = np.zeros(n_gift_type)\n",
    "    \n",
    "    for row in pred:\n",
    "        child_id = row[0]\n",
    "        gift_id = row[1]\n",
    "        \n",
    "        # check if child_id and gift_id exist\n",
    "        assert child_id < n_children\n",
    "        assert gift_id < n_gift_type\n",
    "        assert child_id >= 0 \n",
    "        assert gift_id >= 0\n",
    "        child_happiness = (n_gift_pref - np.where(gift_pref[child_id]==gift_id)[0]) * ratio_child_happiness\n",
    "        if not child_happiness:\n",
    "            child_happiness = -1\n",
    "\n",
    "        gift_happiness = ( n_child_pref - np.where(child_pref[gift_id]==child_id)[0]) * ratio_gift_happiness\n",
    "        if not gift_happiness:\n",
    "            gift_happiness = -1\n",
    "\n",
    "        total_child_happiness += child_happiness\n",
    "        total_gift_happiness[gift_id] += gift_happiness\n",
    "    \n",
    "    # print(max_child_happiness, max_gift_happiness\n",
    "    print('normalized child happiness=',float(total_child_happiness)/(float(n_children)*float(max_child_happiness)) , \\\n",
    "        ', normalized gift happiness',np.mean(total_gift_happiness) / float(max_gift_happiness*n_gift_quantity))\n",
    "    return float(total_child_happiness)/(float(n_children)*float(max_child_happiness)) + np.mean(total_gift_happiness) / float(max_gift_happiness*n_gift_quantity)\n",
    "\n",
    "random_sub = pd.read_csv('../input/sample_submission_random.csv').values.tolist()\n",
    "print(avg_normalized_happiness(random_sub, child_pref, gift_pref))"
   ]
  },
  {
   "cell_type": "code",
   "execution_count": 2,
   "metadata": {
    "collapsed": false
   },
   "outputs": [
    {
     "data": {
      "text/plain": [
       "((1000000, 10), (1000, 1000))"
      ]
     },
     "execution_count": 2,
     "metadata": {},
     "output_type": "execute_result"
    }
   ],
   "source": [
    "gift_pref.shape, child_pref.shape"
   ]
  },
  {
   "cell_type": "code",
   "execution_count": 3,
   "metadata": {
    "collapsed": true
   },
   "outputs": [],
   "source": [
    "class Child(object):\n",
    "    \n",
    "    def __init__(self, idx, prefer):\n",
    "        \n",
    "        self.idx = idx\n",
    "        self.prefer_dict = dict()\n",
    "        \n",
    "        for i in range(prefer.shape[0]):\n",
    "            self.prefer_dict[prefer[i]] = 400*(prefer.shape[0] - i) - 2\n",
    "    \n",
    "    \n",
    "    def add_gifts_prefer(self, giftid, score):\n",
    "        \n",
    "        if giftid in self.prefer_dict.keys():\n",
    "            self.prefer_dict[giftid] += 2*score + 2\n",
    "        else:\n",
    "            self.prefer_dict[giftid] = 2*score - 200\n",
    "        \n",
    "        return None\n",
    "        \n",
    "    \n",
    "    def happiness(self, giftid):\n",
    "        \n",
    "        return self.prefer_dict.get(giftid, -202)"
   ]
  },
  {
   "cell_type": "code",
   "execution_count": 4,
   "metadata": {
    "collapsed": true
   },
   "outputs": [],
   "source": [
    "class Child_twin(object):\n",
    "    \n",
    "    def __init__(self, idx, prefer1, prefer2):\n",
    "        \n",
    "        self.idx = idx\n",
    "        self.prefer_dict = dict()\n",
    "        \n",
    "        for p in list(set(list(prefer1) + list(prefer2))):\n",
    "            score = 0\n",
    "            if p in list(prefer1):\n",
    "                score += 2*(10 - list(prefer1).index(p))\n",
    "            else:\n",
    "                score -= 1\n",
    "            if p in list(prefer2):\n",
    "                score += 2*(10 - list(prefer2).index(p))\n",
    "            else:\n",
    "                score -= 1\n",
    "            self.prefer_dict[p] = 100*score - 2\n",
    "    \n",
    "    \n",
    "    def add_gifts_prefer(self, giftid, score):\n",
    "        \n",
    "        if giftid in self.prefer_dict.keys():\n",
    "            self.prefer_dict[giftid] += score + 2\n",
    "        else:\n",
    "            self.prefer_dict[giftid] = score - 200\n",
    "        \n",
    "        return None\n",
    "        \n",
    "    \n",
    "    def happiness(self, giftid):\n",
    "        \n",
    "        return self.prefer_dict.get(giftid, -202)"
   ]
  },
  {
   "cell_type": "code",
   "execution_count": 5,
   "metadata": {
    "collapsed": true
   },
   "outputs": [],
   "source": [
    "Children = []\n",
    "for i in range(2000):\n",
    "    Children.append(Child_twin(2*i, gift_pref[2*i], gift_pref[2*i+1]))\n",
    "    Children.append(Child_twin(2*i+1, gift_pref[2*i], gift_pref[2*i+1]))\n",
    "Children = Children + [Child(i, gift_pref[i]) for i in range(4000, 1000000)]"
   ]
  },
  {
   "cell_type": "code",
   "execution_count": 6,
   "metadata": {
    "collapsed": true
   },
   "outputs": [],
   "source": [
    "for j in range(1000):\n",
    "    cf = child_pref[j]\n",
    "    done_list = []\n",
    "    for i in range(cf.shape[0]):\n",
    "        if cf[i] < 4000 and cf[i] not in done_list:\n",
    "            if cf[i] % 2 == 0:\n",
    "                cid1 = cf[i]\n",
    "                cid2 = cf[i] + 1\n",
    "                done_list.append(cid2)\n",
    "            else:\n",
    "                cid1 = cf[i] - 1\n",
    "                cid2 = cf[i]\n",
    "                done_list.append(cid1)\n",
    "            if cid1 in list(cf):\n",
    "                score_ = 2*(cf.shape[0] - list(cf).index(cid1))\n",
    "            else:\n",
    "                score_ = -1\n",
    "            if cid2 in list(cf):\n",
    "                score_ += 2*(cf.shape[0] - list(cf).index(cid2))\n",
    "            else:\n",
    "                score_ += -1\n",
    "            Children[cid1].add_gifts_prefer(j, score_)\n",
    "            Children[cid2].add_gifts_prefer(j, score_)\n",
    "        elif cf[i] >= 4000:\n",
    "            Children[cf[i]].add_gifts_prefer(j, 2*(cf.shape[0] - i))"
   ]
  },
  {
   "cell_type": "code",
   "execution_count": 7,
   "metadata": {
    "collapsed": true
   },
   "outputs": [],
   "source": [
    "start_nodes = []\n",
    "end_nodes = []\n",
    "capacities = []\n",
    "unit_costs = []\n",
    "\n",
    "\n",
    "# twins\n",
    "for i in range(2000):\n",
    "    if i in [396, 1222, 1802]:\n",
    "        pass\n",
    "    else:\n",
    "        for g in Children[2*i].prefer_dict.keys():\n",
    "            if g == 337:\n",
    "                pass\n",
    "            else:\n",
    "                start_nodes.append(g)\n",
    "                end_nodes.append(i+1000)\n",
    "                capacities.append(2)\n",
    "                unit_costs.append(-(Children[2*i].prefer_dict[g] + 202))\n",
    "        \n",
    "# non twins\n",
    "for i in range(4000, 1000000):\n",
    "    \n",
    "    for g in Children[i].prefer_dict.keys():\n",
    "        start_nodes.append(g)\n",
    "        end_nodes.append(i-1000)\n",
    "        capacities.append(1)\n",
    "        unit_costs.append(-(Children[i].prefer_dict[g] + 202))\n",
    "\n",
    "\n",
    "\n",
    "\n"
   ]
  },
  {
   "cell_type": "code",
   "execution_count": 8,
   "metadata": {
    "collapsed": true
   },
   "outputs": [],
   "source": [
    "from ortools.graph import pywrapgraph"
   ]
  },
  {
   "cell_type": "code",
   "execution_count": 9,
   "metadata": {
    "collapsed": false
   },
   "outputs": [
    {
     "ename": "NameError",
     "evalue": "name 'rand_cut' is not defined",
     "output_type": "error",
     "traceback": [
      "\u001b[0;31m---------------------------------------------------------------------------\u001b[0m",
      "\u001b[0;31mNameError\u001b[0m                                 Traceback (most recent call last)",
      "\u001b[0;32m<ipython-input-9-cf3505b9b9e6>\u001b[0m in \u001b[0;36m<module>\u001b[0;34m()\u001b[0m\n\u001b[1;32m     36\u001b[0m \u001b[0;34m\u001b[0m\u001b[0m\n\u001b[1;32m     37\u001b[0m \u001b[0mmin_cost_flow_2\u001b[0m\u001b[0;34m.\u001b[0m\u001b[0mSolve\u001b[0m\u001b[0;34m(\u001b[0m\u001b[0;34m)\u001b[0m\u001b[0;34m\u001b[0m\u001b[0m\n\u001b[0;32m---> 38\u001b[0;31m \u001b[0mprint\u001b[0m\u001b[0;34m(\u001b[0m\u001b[0mrand_cut\u001b[0m\u001b[0;34m,\u001b[0m \u001b[0mmin_cost_flow_2\u001b[0m\u001b[0;34m.\u001b[0m\u001b[0mOptimalCost\u001b[0m\u001b[0;34m(\u001b[0m\u001b[0;34m)\u001b[0m\u001b[0;34m)\u001b[0m\u001b[0;34m\u001b[0m\u001b[0m\n\u001b[0m",
      "\u001b[0;31mNameError\u001b[0m: name 'rand_cut' is not defined"
     ]
    }
   ],
   "source": [
    "min_cost_flow_2 = pywrapgraph.SimpleMinCostFlow()\n",
    "# add Arc\n",
    "for i in range(len(start_nodes)):\n",
    "    min_cost_flow_2.AddArcWithCapacityAndUnitCost(\n",
    "        int(start_nodes[i]), int(end_nodes[i]), int(capacities[i]), int(unit_costs[i])\n",
    "    )\n",
    "for i in range(1000, 3000):\n",
    "    min_cost_flow_2.AddArcWithCapacityAndUnitCost(\n",
    "        int(i), int(999000), int(2), int(0)\n",
    "    )\n",
    "for i in range(4000, 1000000):\n",
    "    min_cost_flow_2.AddArcWithCapacityAndUnitCost(\n",
    "        int(i-1000), int(999000), int(1), int(0)\n",
    "    )\n",
    "for i in range(1000):\n",
    "    min_cost_flow_2.AddArcWithCapacityAndUnitCost(\n",
    "        int(i), int(999001), int(1000), int(0)\n",
    "    )\n",
    "min_cost_flow_2.AddArcWithCapacityAndUnitCost(\n",
    "        int(999001), int(999000), int(1000000), int(0)\n",
    "    )\n",
    "# add Supply\n",
    "for i in range(1000):\n",
    "    if i == 337:\n",
    "        min_cost_flow_2.SetNodeSupply(int(i), int(1000 - 6))\n",
    "    else:\n",
    "        min_cost_flow_2.SetNodeSupply(int(i), int(1000))\n",
    "# twins\n",
    "for i in range(1000, 3000):\n",
    "    min_cost_flow_2.SetNodeSupply(int(i), int(0))\n",
    "for i in range(4000, 1000000):\n",
    "    min_cost_flow_2.SetNodeSupply(int(i-1000), int(0))  \n",
    "\n",
    "min_cost_flow_2.SetNodeSupply(int(999001), int(0)) \n",
    "min_cost_flow_2.SetNodeSupply(int(999000), int(-1000000 + 6)) \n",
    "\n",
    "min_cost_flow_2.Solve()"
   ]
  },
  {
   "cell_type": "code",
   "execution_count": 17,
   "metadata": {
    "collapsed": false
   },
   "outputs": [
    {
     "name": "stdout",
     "output_type": "stream",
     "text": [
      "-3972156060\n"
     ]
    }
   ],
   "source": [
    "print(min_cost_flow_2.OptimalCost() - (1898+202)*6)"
   ]
  },
  {
   "cell_type": "code",
   "execution_count": 14,
   "metadata": {
    "collapsed": false
   },
   "outputs": [
    {
     "data": {
      "text/plain": [
       "(1898, 1898, 1898)"
      ]
     },
     "execution_count": 14,
     "metadata": {},
     "output_type": "execute_result"
    }
   ],
   "source": [
    "Children[792].happiness(337), Children[2444].happiness(337), Children[3604].happiness(337)"
   ]
  },
  {
   "cell_type": "code",
   "execution_count": 30,
   "metadata": {
    "collapsed": false
   },
   "outputs": [
    {
     "data": {
      "text/plain": [
       "-3972156062"
      ]
     },
     "execution_count": 30,
     "metadata": {},
     "output_type": "execute_result"
    }
   ],
   "source": [
    "-3972156062 "
   ]
  },
  {
   "cell_type": "code",
   "execution_count": 18,
   "metadata": {
    "collapsed": false
   },
   "outputs": [
    {
     "name": "stdout",
     "output_type": "stream",
     "text": [
      "[] [[108, 243], [319, 155], [349, 227], [429, 157], [438, 51], [469, 229], [473, 89], [758, 179]] []\n"
     ]
    }
   ],
   "source": [
    "assignment = [-1]*1000000\n",
    "twins_differ = []\n",
    "\n",
    "for i in range(min_cost_flow_2.NumArcs()):\n",
    "    if min_cost_flow_2.Flow(i) != 0 and min_cost_flow_2.Head(i) < 999000:\n",
    "        c = min_cost_flow_2.Head(i)\n",
    "        g = min_cost_flow_2.Tail(i)\n",
    "\n",
    "        if c >= 3000:\n",
    "            assignment[c+1000] = g\n",
    "\n",
    "        elif min_cost_flow_2.Flow(i) == 1:\n",
    "            twins_differ.append([2*(c - 1000), 2*(c - 1000) + 1, assignment[2*(c - 1000)], g])\n",
    "            if assignment[2*(c - 1000)] != -1:\n",
    "                assignment[2*(c - 1000) + 1] = g\n",
    "            else:\n",
    "                assignment[2*(c - 1000)] = g\n",
    "\n",
    "        elif min_cost_flow_2.Flow(i) == 2:\n",
    "            assignment[2*(c - 1000)] = g\n",
    "            assignment[2*(c - 1000) + 1] = g\n",
    "\n",
    "Gifts_left = [1000 for _ in range(1000)]\n",
    "odd_gifts = []\n",
    "for i in range(1000000):\n",
    "    if assignment[i] != -1:\n",
    "        Gifts_left[assignment[i]] -= 1\n",
    "for i in range(1000):\n",
    "    if Gifts_left[i] % 2 == 1:\n",
    "        odd_gifts.append([i, Gifts_left[i]])\n",
    "\n",
    "unhappy_nontwin = []\n",
    "for i in range(4000, 1000000):\n",
    "    if assignment[i] == -1:\n",
    "        unhappy_nontwin.append(i)\n",
    "print(twins_differ, odd_gifts, unhappy_nontwin)"
   ]
  },
  {
   "cell_type": "code",
   "execution_count": 23,
   "metadata": {
    "collapsed": true
   },
   "outputs": [],
   "source": [
    "assignment[792] = 337\n",
    "assignment[793] = 337\n",
    "assignment[2444] = 337\n",
    "assignment[2445] = 337\n",
    "assignment[3604] = 337\n",
    "assignment[3605] = 337"
   ]
  },
  {
   "cell_type": "code",
   "execution_count": 43,
   "metadata": {
    "collapsed": false
   },
   "outputs": [],
   "source": [
    "g_target = 758\n",
    "\n",
    "G_i = dict()\n",
    "G_u = dict()\n",
    "for j in range(1000):\n",
    "    G_i[j] = dict()\n",
    "for i in range(4000, 1000000):\n",
    "    j = assignment[i]\n",
    "    G_u[i] = [j, Children[i].happiness(j)]\n",
    "    for k in Children[i].prefer_dict.keys():\n",
    "        if k != j:\n",
    "            G_i[k][i] = - Children[i].happiness(k)\n",
    "\n",
    "\n",
    "G_u[1001] = [g_target, -202]\n",
    "for j in range(1000):\n",
    "    if j != g_target:\n",
    "        G_i[j][1001] = 202\n",
    "\n",
    "heat_u = [100000]*1000000\n",
    "heat_i = [100000]*1000\n",
    "path_u = [-1]*1000000\n",
    "path_i = [-1]*1000\n",
    "heat_u_active_list = [1001]\n",
    "heat_u[1001] = 0\n",
    "\n",
    "\n",
    "while len(heat_u_active_list) > 0:\n",
    "    # Loop\n",
    "    heat_i_active_list = []\n",
    "    for u in heat_u_active_list:\n",
    "        new_i, cost = G_u[u]\n",
    "        if heat_u[u] + cost < heat_i[new_i]: \n",
    "            heat_i[new_i] = heat_u[u] + cost\n",
    "            heat_i_active_list.append(new_i)\n",
    "            path_i[new_i] = u\n",
    "    heat_u_active_list = []\n",
    "\n",
    "    # Loop\n",
    "    for i in heat_i_active_list:\n",
    "        for u in G_i[i].keys():\n",
    "            if u == 1001:\n",
    "                if heat_i[i] + G_i[i][u] == 0:\n",
    "                    path_u[u] = i\n",
    "                    print(\"Load\")\n",
    "                elif heat_i[i] + G_i[i][u] < 0:\n",
    "                    path_u[u] = i\n",
    "                    print(\"Was not Optimal!!\")\n",
    "            elif heat_i[i] + G_i[i][u] < heat_u[u]: \n",
    "                heat_u[u] = heat_i[i] + G_i[i][u]\n",
    "                heat_u_active_list.append(u)\n",
    "                path_u[u] = i\n",
    "\n",
    "    # 202 Fire\n",
    "    fire = min(heat_i) + 202\n",
    "    fire_source = np.argmin(heat_i)\n",
    "    heat_i_ = heat_i.copy()\n",
    "    heat_i_[g_target] = 1000000\n",
    "    fire_ = min(heat_i_) + 202\n",
    "    fire_source_ = np.argmin(heat_i_)\n",
    "    if fire_ == 0:\n",
    "        print(\"Fire\")\n",
    "        path_u[1001] = fire_source_\n",
    "    for u in range(4000, 1000000):\n",
    "        if fire < heat_u[u]: \n",
    "            heat_u[u] = fire\n",
    "            heat_u_active_list.append(u)\n",
    "            path_u[u] = fire_source\n",
    "    heat_u_active_list = list(np.unique(heat_u_active_list))"
   ]
  },
  {
   "cell_type": "code",
   "execution_count": null,
   "metadata": {
    "collapsed": true
   },
   "outputs": [],
   "source": [
    "[[108, 243], [319, 155], [349, 227], [429, 157], [438, 51], [469, 229], [473, 89], [758, 179]]"
   ]
  },
  {
   "cell_type": "code",
   "execution_count": 20,
   "metadata": {
    "collapsed": true
   },
   "outputs": [],
   "source": [
    "res_108 = [heat_u.copy(), heat_i.copy(), path_u.copy(), path_i.copy()]"
   ]
  },
  {
   "cell_type": "code",
   "execution_count": 25,
   "metadata": {
    "collapsed": true
   },
   "outputs": [],
   "source": [
    "res_319 = [heat_u.copy(), heat_i.copy(), path_u.copy(), path_i.copy()]"
   ]
  },
  {
   "cell_type": "code",
   "execution_count": 28,
   "metadata": {
    "collapsed": true
   },
   "outputs": [],
   "source": [
    "res_349 = [heat_u.copy(), heat_i.copy(), path_u.copy(), path_i.copy()]"
   ]
  },
  {
   "cell_type": "code",
   "execution_count": 32,
   "metadata": {
    "collapsed": true
   },
   "outputs": [],
   "source": [
    "res_429 = [heat_u.copy(), heat_i.copy(), path_u.copy(), path_i.copy()]"
   ]
  },
  {
   "cell_type": "code",
   "execution_count": 35,
   "metadata": {
    "collapsed": true
   },
   "outputs": [],
   "source": [
    "res_438 = [heat_u.copy(), heat_i.copy(), path_u.copy(), path_i.copy()]"
   ]
  },
  {
   "cell_type": "code",
   "execution_count": 38,
   "metadata": {
    "collapsed": true
   },
   "outputs": [],
   "source": [
    "res_469 = [heat_u.copy(), heat_i.copy(), path_u.copy(), path_i.copy()]"
   ]
  },
  {
   "cell_type": "code",
   "execution_count": 41,
   "metadata": {
    "collapsed": true
   },
   "outputs": [],
   "source": [
    "res_473 = [heat_u.copy(), heat_i.copy(), path_u.copy(), path_i.copy()]"
   ]
  },
  {
   "cell_type": "code",
   "execution_count": 44,
   "metadata": {
    "collapsed": true
   },
   "outputs": [],
   "source": [
    "res_758 = [heat_u.copy(), heat_i.copy(), path_u.copy(), path_i.copy()]"
   ]
  },
  {
   "cell_type": "code",
   "execution_count": null,
   "metadata": {
    "collapsed": true
   },
   "outputs": [],
   "source": []
  },
  {
   "cell_type": "code",
   "execution_count": 22,
   "metadata": {
    "collapsed": false
   },
   "outputs": [
    {
     "data": {
      "text/plain": [
       "[-202, -198, -200, -198, -200, -186, -200, -194]"
      ]
     },
     "execution_count": 22,
     "metadata": {},
     "output_type": "execute_result"
    }
   ],
   "source": [
    "[\n",
    "    res_108[1][108], res_108[1][319], res_108[1][349], res_108[1][429], \n",
    "    res_108[1][438], res_108[1][469], res_108[1][473], res_108[1][758]\n",
    "]"
   ]
  },
  {
   "cell_type": "code",
   "execution_count": 26,
   "metadata": {
    "collapsed": false
   },
   "outputs": [
    {
     "data": {
      "text/plain": [
       "[-194, -202, -200, -198, -200, -186, -200, -194]"
      ]
     },
     "execution_count": 26,
     "metadata": {},
     "output_type": "execute_result"
    }
   ],
   "source": [
    "[\n",
    "    res_319[1][108], res_319[1][319], res_319[1][349], res_319[1][429], \n",
    "    res_319[1][438], res_319[1][469], res_319[1][473], res_319[1][758]\n",
    "]"
   ]
  },
  {
   "cell_type": "code",
   "execution_count": 29,
   "metadata": {
    "collapsed": false
   },
   "outputs": [
    {
     "data": {
      "text/plain": [
       "[-186, -190, -202, -190, -192, -178, -192, -186]"
      ]
     },
     "execution_count": 29,
     "metadata": {},
     "output_type": "execute_result"
    }
   ],
   "source": [
    "[\n",
    "    res_349[1][108], res_349[1][319], res_349[1][349], res_349[1][429], \n",
    "    res_349[1][438], res_349[1][469], res_349[1][473], res_349[1][758]\n",
    "]"
   ]
  },
  {
   "cell_type": "code",
   "execution_count": 33,
   "metadata": {
    "collapsed": false
   },
   "outputs": [
    {
     "data": {
      "text/plain": [
       "[-194, -198, -200, -202, -200, -186, -200, -194]"
      ]
     },
     "execution_count": 33,
     "metadata": {},
     "output_type": "execute_result"
    }
   ],
   "source": [
    "[\n",
    "    res_429[1][108], res_429[1][319], res_429[1][349], res_429[1][429], \n",
    "    res_429[1][438], res_429[1][469], res_429[1][473], res_429[1][758]\n",
    "]"
   ]
  },
  {
   "cell_type": "code",
   "execution_count": 36,
   "metadata": {
    "collapsed": false
   },
   "outputs": [
    {
     "data": {
      "text/plain": [
       "[-194, -198, -200, -198, -202, -186, -200, -194]"
      ]
     },
     "execution_count": 36,
     "metadata": {},
     "output_type": "execute_result"
    }
   ],
   "source": [
    "[\n",
    "    res_438[1][108], res_438[1][319], res_438[1][349], res_438[1][429], \n",
    "    res_438[1][438], res_438[1][469], res_438[1][473], res_438[1][758]\n",
    "]"
   ]
  },
  {
   "cell_type": "code",
   "execution_count": 39,
   "metadata": {
    "collapsed": false
   },
   "outputs": [
    {
     "data": {
      "text/plain": [
       "[-196, -200, -202, -200, -202, -202, -202, -196]"
      ]
     },
     "execution_count": 39,
     "metadata": {},
     "output_type": "execute_result"
    }
   ],
   "source": [
    "[\n",
    "    res_469[1][108], res_469[1][319], res_469[1][349], res_469[1][429], \n",
    "    res_469[1][438], res_469[1][469], res_469[1][473], res_469[1][758]\n",
    "]"
   ]
  },
  {
   "cell_type": "code",
   "execution_count": 42,
   "metadata": {
    "collapsed": false
   },
   "outputs": [
    {
     "data": {
      "text/plain": [
       "[-190, -194, -196, -194, -196, -182, -202, -190]"
      ]
     },
     "execution_count": 42,
     "metadata": {},
     "output_type": "execute_result"
    }
   ],
   "source": [
    "[\n",
    "    res_473[1][108], res_473[1][319], res_473[1][349], res_473[1][429], \n",
    "    res_473[1][438], res_473[1][469], res_473[1][473], res_473[1][758]\n",
    "]"
   ]
  },
  {
   "cell_type": "code",
   "execution_count": 45,
   "metadata": {
    "collapsed": false
   },
   "outputs": [
    {
     "data": {
      "text/plain": [
       "[-192, -200, -198, -196, -198, -184, -198, -202]"
      ]
     },
     "execution_count": 45,
     "metadata": {},
     "output_type": "execute_result"
    }
   ],
   "source": [
    "[\n",
    "    res_758[1][108], res_758[1][319], res_758[1][349], res_758[1][429], \n",
    "    res_758[1][438], res_758[1][469], res_758[1][473], res_758[1][758]\n",
    "]"
   ]
  },
  {
   "cell_type": "code",
   "execution_count": 56,
   "metadata": {
    "collapsed": true
   },
   "outputs": [],
   "source": [
    "# 758 -> 319\n",
    "# cost 2\n",
    "\n",
    "path_u = res_758[2].copy()\n",
    "path_i = res_758[3].copy()\n",
    "\n",
    "\n",
    "i_ = 319\n",
    "\n",
    "u = path_i[i_]\n",
    "res_list = [i_, u]\n",
    "while True:\n",
    "    i = path_u[u]\n",
    "    if i == 758:\n",
    "        res_list.append(i)\n",
    "        break\n",
    "    u = path_i[i]\n",
    "    res_list.append(i)\n",
    "    res_list.append(u)\n",
    "\n"
   ]
  },
  {
   "cell_type": "code",
   "execution_count": 58,
   "metadata": {
    "collapsed": false
   },
   "outputs": [
    {
     "data": {
      "text/plain": [
       "[319, 263572, 563, 82231, 763, 615584, 758]"
      ]
     },
     "execution_count": 58,
     "metadata": {},
     "output_type": "execute_result"
    }
   ],
   "source": [
    "res_list_1 = res_list.copy()\n",
    "res_list_1"
   ]
  },
  {
   "cell_type": "code",
   "execution_count": 66,
   "metadata": {
    "collapsed": false
   },
   "outputs": [
    {
     "data": {
      "text/plain": [
       "3"
      ]
     },
     "execution_count": 66,
     "metadata": {},
     "output_type": "execute_result"
    }
   ],
   "source": [
    "len(res_list_1) // 2"
   ]
  },
  {
   "cell_type": "code",
   "execution_count": 59,
   "metadata": {
    "collapsed": true
   },
   "outputs": [],
   "source": [
    "# 469 -> 473\n",
    "# cost 0\n",
    "\n",
    "path_u = res_469[2].copy()\n",
    "path_i = res_469[3].copy()\n",
    "\n",
    "\n",
    "i_ = 473\n",
    "\n",
    "u = path_i[i_]\n",
    "res_list = [i_, u]\n",
    "while True:\n",
    "    i = path_u[u]\n",
    "    if i == 469:\n",
    "        res_list.append(i)\n",
    "        break\n",
    "    u = path_i[i]\n",
    "    res_list.append(i)\n",
    "    res_list.append(u)"
   ]
  },
  {
   "cell_type": "code",
   "execution_count": 60,
   "metadata": {
    "collapsed": false
   },
   "outputs": [
    {
     "data": {
      "text/plain": [
       "[473,\n",
       " 643959,\n",
       " 808,\n",
       " 118165,\n",
       " 925,\n",
       " 42674,\n",
       " 136,\n",
       " 253049,\n",
       " 914,\n",
       " 808473,\n",
       " 633,\n",
       " 278142,\n",
       " 469]"
      ]
     },
     "execution_count": 60,
     "metadata": {},
     "output_type": "execute_result"
    }
   ],
   "source": [
    "res_list_2 = res_list.copy()\n",
    "res_list_2"
   ]
  },
  {
   "cell_type": "code",
   "execution_count": 61,
   "metadata": {
    "collapsed": true
   },
   "outputs": [],
   "source": [
    "# 108 -> 438\n",
    "# cost 2\n",
    "\n",
    "path_u = res_108[2].copy()\n",
    "path_i = res_108[3].copy()\n",
    "\n",
    "\n",
    "i_ = 438\n",
    "\n",
    "u = path_i[i_]\n",
    "res_list = [i_, u]\n",
    "while True:\n",
    "    i = path_u[u]\n",
    "    if i == 108:\n",
    "        res_list.append(i)\n",
    "        break\n",
    "    u = path_i[i]\n",
    "    res_list.append(i)\n",
    "    res_list.append(u)"
   ]
  },
  {
   "cell_type": "code",
   "execution_count": 62,
   "metadata": {
    "collapsed": false
   },
   "outputs": [
    {
     "data": {
      "text/plain": [
       "[438, 507661, 661, 464041, 970, 234600, 317, 35718, 380, 628503, 108]"
      ]
     },
     "execution_count": 62,
     "metadata": {},
     "output_type": "execute_result"
    }
   ],
   "source": [
    "res_list_3 = res_list.copy()\n",
    "res_list_3"
   ]
  },
  {
   "cell_type": "code",
   "execution_count": 63,
   "metadata": {
    "collapsed": true
   },
   "outputs": [],
   "source": [
    "# 429 -> 349\n",
    "# cost 2\n",
    "\n",
    "path_u = res_429[2].copy()\n",
    "path_i = res_429[3].copy()\n",
    "\n",
    "\n",
    "i_ = 349\n",
    "\n",
    "u = path_i[i_]\n",
    "res_list = [i_, u]\n",
    "while True:\n",
    "    i = path_u[u]\n",
    "    if i == 429:\n",
    "        res_list.append(i)\n",
    "        break\n",
    "    u = path_i[i]\n",
    "    res_list.append(i)\n",
    "    res_list.append(u)"
   ]
  },
  {
   "cell_type": "code",
   "execution_count": 64,
   "metadata": {
    "collapsed": false
   },
   "outputs": [
    {
     "data": {
      "text/plain": [
       "[349, 938606, 234, 579653, 106, 789486, 62, 678603, 429]"
      ]
     },
     "execution_count": 64,
     "metadata": {},
     "output_type": "execute_result"
    }
   ],
   "source": [
    "res_list_4 = res_list.copy()\n",
    "res_list_4"
   ]
  },
  {
   "cell_type": "code",
   "execution_count": 65,
   "metadata": {
    "collapsed": true
   },
   "outputs": [],
   "source": [
    "assignment_ = assignment.copy()"
   ]
  },
  {
   "cell_type": "code",
   "execution_count": 67,
   "metadata": {
    "collapsed": true
   },
   "outputs": [],
   "source": [
    "# switch\n",
    "for i in range(len(res_list_1) // 2):\n",
    "    assignment_[res_list_1[2*i+1]] = res_list_1[2*i+2]\n",
    "for i in range(len(res_list_2) // 2):\n",
    "    assignment_[res_list_2[2*i+1]] = res_list_2[2*i+2]\n",
    "for i in range(len(res_list_3) // 2):\n",
    "    assignment_[res_list_3[2*i+1]] = res_list_3[2*i+2]\n",
    "for i in range(len(res_list_4) // 2):\n",
    "    assignment_[res_list_4[2*i+1]] = res_list_4[2*i+2]"
   ]
  },
  {
   "cell_type": "code",
   "execution_count": 68,
   "metadata": {
    "collapsed": false
   },
   "outputs": [
    {
     "data": {
      "text/plain": [
       "3770156054"
      ]
     },
     "execution_count": 68,
     "metadata": {},
     "output_type": "execute_result"
    }
   ],
   "source": [
    "sum([Children[i].happiness(assignment_[i]) for i in range(1000000)])"
   ]
  },
  {
   "cell_type": "code",
   "execution_count": 69,
   "metadata": {
    "collapsed": false
   },
   "outputs": [
    {
     "data": {
      "text/plain": [
       "0.9425390135"
      ]
     },
     "execution_count": 69,
     "metadata": {},
     "output_type": "execute_result"
    }
   ],
   "source": [
    "3770156054 / 4000000000"
   ]
  },
  {
   "cell_type": "code",
   "execution_count": 72,
   "metadata": {
    "collapsed": true
   },
   "outputs": [],
   "source": [
    "Gifts_left = [1000 for _ in range(1000)]\n",
    "odd_gifts = []\n",
    "for i in range(1000000):\n",
    "    if assignment_[i] != -1:\n",
    "        Gifts_left[assignment_[i]] -= 1\n",
    "for i in range(1000):\n",
    "    if Gifts_left[i] % 2 == 1:\n",
    "        odd_gifts.append([i, Gifts_left[i]])"
   ]
  },
  {
   "cell_type": "code",
   "execution_count": 73,
   "metadata": {
    "collapsed": false
   },
   "outputs": [
    {
     "data": {
      "text/plain": [
       "[]"
      ]
     },
     "execution_count": 73,
     "metadata": {},
     "output_type": "execute_result"
    }
   ],
   "source": [
    "odd_gifts"
   ]
  },
  {
   "cell_type": "code",
   "execution_count": 74,
   "metadata": {
    "collapsed": true
   },
   "outputs": [],
   "source": [
    "left_gifts = []\n",
    "for j in range(1000):\n",
    "    for _ in range(Gifts_left[j]):\n",
    "        left_gifts.append(j)"
   ]
  },
  {
   "cell_type": "code",
   "execution_count": 75,
   "metadata": {
    "collapsed": false
   },
   "outputs": [
    {
     "data": {
      "text/plain": [
       "(3024, 3024)"
      ]
     },
     "execution_count": 75,
     "metadata": {},
     "output_type": "execute_result"
    }
   ],
   "source": [
    "len(left_gifts), sum(Gifts_left)"
   ]
  },
  {
   "cell_type": "code",
   "execution_count": 76,
   "metadata": {
    "collapsed": true
   },
   "outputs": [],
   "source": [
    "# assign for twins\n",
    "for i in range(1000000):\n",
    "    if assignment_[i] == -1:\n",
    "        assignment_[i] = left_gifts.pop()"
   ]
  },
  {
   "cell_type": "code",
   "execution_count": 78,
   "metadata": {
    "collapsed": false
   },
   "outputs": [
    {
     "name": "stdout",
     "output_type": "stream",
     "text": [
      "normalized child happiness= 0.8704815 , normalized gift happiness 0.0720575135\n"
     ]
    },
    {
     "data": {
      "text/plain": [
       "0.94253901350000002"
      ]
     },
     "execution_count": 78,
     "metadata": {},
     "output_type": "execute_result"
    }
   ],
   "source": [
    "avg_normalized_happiness(res_list_temp, child_pref, gift_pref)"
   ]
  },
  {
   "cell_type": "code",
   "execution_count": 77,
   "metadata": {
    "collapsed": true
   },
   "outputs": [],
   "source": [
    "res_list_temp = [[i, assignment_[i]] for i in range(1000000)]\n",
    "out = open('../submit/subm_hrd_final.csv', 'w')\n",
    "out.write('ChildId,GiftId\\n')\n",
    "for i in range(len(res_list_temp)):\n",
    "    out.write(str(i) + ',' + str(res_list_temp[i][1]) + '\\n')\n",
    "out.close()"
   ]
  },
  {
   "cell_type": "code",
   "execution_count": null,
   "metadata": {
    "collapsed": true
   },
   "outputs": [],
   "source": []
  }
 ],
 "metadata": {
  "kernelspec": {
   "display_name": "Python3",
   "language": "python",
   "name": "py35"
  },
  "language_info": {
   "codemirror_mode": {
    "name": "ipython",
    "version": 3
   },
   "file_extension": ".py",
   "mimetype": "text/x-python",
   "name": "python",
   "nbconvert_exporter": "python",
   "pygments_lexer": "ipython3",
   "version": "3.5.2"
  }
 },
 "nbformat": 4,
 "nbformat_minor": 1
}
